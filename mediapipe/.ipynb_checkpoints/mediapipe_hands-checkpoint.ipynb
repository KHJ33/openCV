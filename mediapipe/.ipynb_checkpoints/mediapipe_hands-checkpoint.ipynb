{
 "cells": [
  {
   "cell_type": "code",
   "execution_count": 1,
   "metadata": {
    "scrolled": true
   },
   "outputs": [
    {
     "name": "stdout",
     "output_type": "stream",
     "text": [
      "Collecting mediapipe\n",
      "  Using cached mediapipe-0.8.11-cp38-cp38-macosx_10_15_x86_64.whl (33.6 MB)\n",
      "Requirement already satisfied: opencv-python in /Users/kimhyunjo/opt/anaconda3/lib/python3.8/site-packages (4.6.0.66)\n",
      "Requirement already satisfied: numpy in /Users/kimhyunjo/opt/anaconda3/lib/python3.8/site-packages (from mediapipe) (1.19.2)\n",
      "Requirement already satisfied: opencv-contrib-python in /Users/kimhyunjo/opt/anaconda3/lib/python3.8/site-packages (from mediapipe) (4.6.0.66)\n",
      "Requirement already satisfied: matplotlib in /Users/kimhyunjo/opt/anaconda3/lib/python3.8/site-packages (from mediapipe) (3.3.2)\n",
      "Requirement already satisfied: absl-py in /Users/kimhyunjo/opt/anaconda3/lib/python3.8/site-packages (from mediapipe) (0.12.0)\n",
      "Requirement already satisfied: attrs>=19.1.0 in /Users/kimhyunjo/opt/anaconda3/lib/python3.8/site-packages (from mediapipe) (20.3.0)\n",
      "Requirement already satisfied: protobuf<4,>=3.11 in /Users/kimhyunjo/opt/anaconda3/lib/python3.8/site-packages (from mediapipe) (3.17.0)\n",
      "Requirement already satisfied: pyparsing!=2.0.4,!=2.1.2,!=2.1.6,>=2.0.3 in /Users/kimhyunjo/opt/anaconda3/lib/python3.8/site-packages (from matplotlib->mediapipe) (2.4.7)\n",
      "Requirement already satisfied: cycler>=0.10 in /Users/kimhyunjo/opt/anaconda3/lib/python3.8/site-packages (from matplotlib->mediapipe) (0.10.0)\n",
      "Requirement already satisfied: certifi>=2020.06.20 in /Users/kimhyunjo/opt/anaconda3/lib/python3.8/site-packages (from matplotlib->mediapipe) (2020.6.20)\n",
      "Requirement already satisfied: python-dateutil>=2.1 in /Users/kimhyunjo/opt/anaconda3/lib/python3.8/site-packages (from matplotlib->mediapipe) (2.8.1)\n",
      "Requirement already satisfied: kiwisolver>=1.0.1 in /Users/kimhyunjo/opt/anaconda3/lib/python3.8/site-packages (from matplotlib->mediapipe) (1.3.0)\n",
      "Requirement already satisfied: pillow>=6.2.0 in /Users/kimhyunjo/opt/anaconda3/lib/python3.8/site-packages (from matplotlib->mediapipe) (8.0.1)\n",
      "Requirement already satisfied: six in /Users/kimhyunjo/opt/anaconda3/lib/python3.8/site-packages (from absl-py->mediapipe) (1.15.0)\n",
      "Installing collected packages: mediapipe\n",
      "Successfully installed mediapipe-0.8.11\n"
     ]
    }
   ],
   "source": [
    "!pip install mediapipe opencv-python"
   ]
  },
  {
   "cell_type": "code",
   "execution_count": 2,
   "metadata": {},
   "outputs": [],
   "source": [
    "import cv2\n",
    "import numpy as np\n",
    "import mediapipe as mp"
   ]
  },
  {
   "cell_type": "code",
   "execution_count": 19,
   "metadata": {},
   "outputs": [],
   "source": [
    "mp_drawing = mp.solutions.drawing_utils\n",
    "mp_drawing_style = mp.solutions.drawing_styles\n",
    "mp_hands = mp.solutions.hands"
   ]
  },
  {
   "cell_type": "code",
   "execution_count": 20,
   "metadata": {},
   "outputs": [
    {
     "name": "stdout",
     "output_type": "stream",
     "text": [
      "Handness [classification {\n",
      "  index: 1\n",
      "  score: 0.9574827551841736\n",
      "  label: \"Right\"\n",
      "}\n",
      ", classification {\n",
      "  index: 0\n",
      "  score: 0.985072672367096\n",
      "  label: \"Left\"\n",
      "}\n",
      "]\n",
      "Handness 0.9574827551841736\n"
     ]
    }
   ],
   "source": [
    "hands = mp_hands.Hands(static_image_mode = True,\n",
    "                      max_num_hands = 2,\n",
    "                      min_detection_confidence = 0.5)\n",
    "files = ['./hand_figs/both_hand.jpeg']\n",
    "image = cv2.flip(cv2.imread(files[0]), 1) # 헷갈릴 수 있으므로 좌우를 뒤집어야 함\n",
    "image_bgr = cv2.cvtColor(image, cv2.COLOR_BGR2RGB)\n",
    "\n",
    "annotated_image = image.copy()\n",
    "\n",
    "results = hands.process(image_bgr)\n",
    "print('Handness', results.multi_handedness)\n",
    "print('Handness', results.multi_handedness[0].classification[0].score)"
   ]
  },
  {
   "cell_type": "code",
   "execution_count": 21,
   "metadata": {},
   "outputs": [
    {
     "name": "stdout",
     "output_type": "stream",
     "text": [
      "fingers : x: -0.028711356222629547\n",
      "y: 0.06749913841485977\n",
      "z: -0.004177887458354235\n",
      "\n",
      "fingers : x: -0.047275591641664505\n",
      "y: -0.07090231031179428\n",
      "z: -0.04067772626876831\n",
      "\n"
     ]
    }
   ],
   "source": [
    "# print('landmark', results.multi_hand_world_landmarks[0].landmark)\n",
    "print('fingers :', results.multi_hand_world_landmarks[0].landmark[1])\n",
    "print('fingers :', results.multi_hand_world_landmarks[0].landmark[mp_hands.HandLandmark.INDEX_FINGER_TIP])"
   ]
  },
  {
   "cell_type": "code",
   "execution_count": 22,
   "metadata": {},
   "outputs": [],
   "source": [
    "mp_drawing.draw_landmarks(image = annotated_image, \n",
    "                         landmark_list=results.multi_hand_landmarks[0], connections=mp_hands.HAND_CONNECTIONS, \n",
    "                         landmark_drawing_spec=mp_drawing_style.get_default_hand_landmarks_style(), \n",
    "                         connection_drawing_spec=mp_drawing_style.get_default_hand_connections_style())\n",
    "\n",
    "mp_drawing.draw_landmarks(image = annotated_image, \n",
    "                         landmark_list=results.multi_hand_landmarks[1], connections=mp_hands.HAND_CONNECTIONS, \n",
    "                         landmark_drawing_spec=mp_drawing_style.get_default_hand_landmarks_style(), \n",
    "                         connection_drawing_spec=mp_drawing_style.get_default_hand_connections_style())"
   ]
  },
  {
   "cell_type": "code",
   "execution_count": 23,
   "metadata": {},
   "outputs": [
    {
     "data": {
      "text/plain": [
       "-1"
      ]
     },
     "execution_count": 23,
     "metadata": {},
     "output_type": "execute_result"
    }
   ],
   "source": [
    "cv2.imshow('image', annotated_image)\n",
    "cv2.waitKey()\n",
    "cv2.destroyAllWindows()\n",
    "cv2.waitKey(1)"
   ]
  },
  {
   "cell_type": "markdown",
   "metadata": {},
   "source": [
    "# webcam 을 이용한 손 detect"
   ]
  },
  {
   "cell_type": "code",
   "execution_count": 18,
   "metadata": {},
   "outputs": [
    {
     "data": {
      "text/plain": [
       "-1"
      ]
     },
     "execution_count": 18,
     "metadata": {},
     "output_type": "execute_result"
    }
   ],
   "source": [
    "# For webcam input:\n",
    "mp_drawing = mp.solutions.drawing_utils\n",
    "mp_drawing_styles = mp.solutions.drawing_styles\n",
    "mp_hands = mp.solutions.hands\n",
    "\n",
    "cap = cv2.VideoCapture(0)\n",
    "with mp_hands.Hands(\n",
    "    model_complexity=0,\n",
    "    min_detection_confidence=0.5,\n",
    "    min_tracking_confidence=0.5) as hands:\n",
    "    \n",
    "    while cap.isOpened():\n",
    "        success, image = cap.read()\n",
    "        if not success:\n",
    "            print(\"Ignoring empty camera frame.\")\n",
    "            # If loading a video, use 'break' instead of 'continue'.\n",
    "            continue\n",
    "\n",
    "        # To improve performance, optionally mark the image as not writeable to\n",
    "        # pass by reference.\n",
    "        image.flags.writeable = False\n",
    "        image = cv2.cvtColor(image, cv2.COLOR_BGR2RGB)\n",
    "        results = hands.process(image)\n",
    "\n",
    "        # Draw the hand annotations on the image.\n",
    "        image.flags.writeable = True\n",
    "        image = cv2.cvtColor(image, cv2.COLOR_RGB2BGR)\n",
    "        if results.multi_hand_landmarks:\n",
    "            for hand_landmarks in results.multi_hand_landmarks:\n",
    "                mp_drawing.draw_landmarks(\n",
    "                    image,\n",
    "                    hand_landmarks,\n",
    "                    mp_hands.HAND_CONNECTIONS,\n",
    "                    mp_drawing_styles.get_default_hand_landmarks_style(),\n",
    "                    mp_drawing_styles.get_default_hand_connections_style())\n",
    "        # Flip the image horizontally for a selfie-view display.\n",
    "        cv2.imshow('MediaPipe Hands', cv2.flip(image, 1))\n",
    "        if cv2.waitKey(5) & 0xFF == 27:\n",
    "            break\n",
    "            \n",
    "cap.release()\n",
    "cv2.destroyAllWindows()\n",
    "cv2.waitKey(1)"
   ]
  }
 ],
 "metadata": {
  "kernelspec": {
   "display_name": "Python 3",
   "language": "python",
   "name": "python3"
  },
  "language_info": {
   "codemirror_mode": {
    "name": "ipython",
    "version": 3
   },
   "file_extension": ".py",
   "mimetype": "text/x-python",
   "name": "python",
   "nbconvert_exporter": "python",
   "pygments_lexer": "ipython3",
   "version": "3.8.5"
  }
 },
 "nbformat": 4,
 "nbformat_minor": 4
}
