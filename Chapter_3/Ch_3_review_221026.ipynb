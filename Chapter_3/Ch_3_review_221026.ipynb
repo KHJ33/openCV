{
 "cells": [
  {
   "cell_type": "code",
   "execution_count": null,
   "metadata": {},
   "outputs": [],
   "source": [
    "import cv2\n",
    "import numpy as np\n",
    "import sys\n",
    "import matplotlib.pyplot as plt"
   ]
  },
  {
   "cell_type": "code",
   "execution_count": null,
   "metadata": {},
   "outputs": [],
   "source": [
    "src = cv2.imread('./fig/lenna.bmp', 0)\n",
    "\n",
    "hist = cv2.calcHist([src], [0], None, [256], [0, 256])\n",
    "\n",
    "plt.plot(hist)\n",
    "plt.show()\n",
    "\n",
    "cv2.imshow('src',src)\n",
    "cv2.waitKey()\n",
    "cv2.destroyAllWindows()\n",
    "cv2.waitKey(1)"
   ]
  },
  {
   "cell_type": "code",
   "execution_count": null,
   "metadata": {},
   "outputs": [],
   "source": [
    "src = cv2.imread('./fig/lenna.bmp', 1)\n",
    "\n",
    "hist_b = cv2.calcHist([src], [0], None, [256], [0, 256])\n",
    "hist_g = cv2.calcHist([src], [1], None, [256], [0, 256])\n",
    "hist_r = cv2.calcHist([src], [2], None, [256], [0, 256])\n",
    "\n",
    "plt.plot(hist_b, 'b')\n",
    "plt.plot(hist_g, 'g')\n",
    "plt.plot(hist_r, 'r')\n",
    "plt.show()\n",
    "\n",
    "cv2.imshow('src',src)\n",
    "cv2.waitKey()\n",
    "cv2.destroyAllWindows()\n",
    "cv2.waitKey(1)"
   ]
  },
  {
   "cell_type": "code",
   "execution_count": null,
   "metadata": {},
   "outputs": [],
   "source": [
    "src = cv2.imread('./fig/lenna.bmp', 0)\n",
    "\n",
    "hist_0 = cv2.calcHist([src], [0], None, [256], [0, 256])\n",
    "hist_1 = cv2.calcHist([src], [0], None, [128], [0, 256]) # 0 과 1을 합쳐서 그림을 그린다.\n",
    "\n",
    "plt.plot(hist_0, 'b')\n",
    "plt.plot(hist_1, 'g')\n",
    "plt.show()\n",
    "\n",
    "cv2.imshow('src',src)\n",
    "cv2.waitKey()\n",
    "cv2.destroyAllWindows()\n",
    "cv2.waitKey(1)"
   ]
  },
  {
   "cell_type": "code",
   "execution_count": null,
   "metadata": {},
   "outputs": [],
   "source": [
    "src = cv2.imread('./fig/flowers.jpg')\n",
    "src_hsv = cv2.cvtColor(src, cv2.COLOR_BGR2HSV)\n",
    "\n",
    "b, g, r = cv2.split(src)\n",
    "\n",
    "h, s, v = cv2.split(src_hsv)\n",
    "\n",
    "\n",
    "cv2.imshow('src',src)\n",
    "cv2.imshow('b',b)\n",
    "cv2.imshow('g',g)\n",
    "cv2.imshow('r',r)\n",
    "\n",
    "cv2.imshow('h',h)\n",
    "cv2.imshow('s',s)\n",
    "cv2.imshow('v',v)\n",
    "\n",
    "cv2.waitKey()\n",
    "cv2.destroyAllWindows()\n",
    "cv2.waitKey(1)"
   ]
  },
  {
   "cell_type": "code",
   "execution_count": 3,
   "metadata": {},
   "outputs": [
    {
     "data": {
      "text/plain": [
       "-1"
      ]
     },
     "execution_count": 3,
     "metadata": {},
     "output_type": "execute_result"
    }
   ],
   "source": [
    "src1 = cv2.imread('./fig/lenna256.bmp', 0)\n",
    "src2 = np.zeros((256,256), np.uint8)\n",
    "\n",
    "cv2.circle(src2, (128,128), 100, 200, -1)\n",
    "cv2.circle(src2, (128,128), 50, 100, -1)\n",
    "\n",
    "dst1 = cv2.add(src1, src2)\n",
    "dst2 = cv2.addWeighted(src1, 0.5, src2 , 0.5, 0)\n",
    "dst3 = cv2.subtract(src1, src2)\n",
    "dst4 = cv2.absdiff(src1, src2)\n",
    "\n",
    "cv2.imshow('src1', src1)\n",
    "cv2.imshow('src2', src2)\n",
    "\n",
    "cv2.imshow('dst1', dst1)\n",
    "cv2.imshow('dst2', dst2)\n",
    "cv2.imshow('dst3', dst3)\n",
    "cv2.imshow('dst4', dst4)\n",
    "\n",
    "cv2.waitKey()\n",
    "cv2.destroyAllWindows()\n",
    "cv2.waitKey(1)"
   ]
  },
  {
   "cell_type": "code",
   "execution_count": 4,
   "metadata": {},
   "outputs": [
    {
     "data": {
      "text/plain": [
       "-1"
      ]
     },
     "execution_count": 4,
     "metadata": {},
     "output_type": "execute_result"
    }
   ],
   "source": [
    "def call_trackbar(pos) :\n",
    "    img[:] = (img1 * (pos / 255.)).astype(np.uint8)\n",
    "    cv2.imshow('image', img)\n",
    "\n",
    "img = cv2.imread('./fig/lenna.bmp', 0)\n",
    "img1 = img.copy()\n",
    "\n",
    "cv2.namedWindow('image')\n",
    "cv2.createTrackbar('level', 'image', 0, 255, call_trackbar)\n",
    "\n",
    "cv2.imshow('image', img)\n",
    "\n",
    "cv2.waitKey()\n",
    "cv2.destroyAllWindows()\n",
    "cv2.waitKey(1)"
   ]
  },
  {
   "cell_type": "code",
   "execution_count": 6,
   "metadata": {},
   "outputs": [
    {
     "data": {
      "text/plain": [
       "-1"
      ]
     },
     "execution_count": 6,
     "metadata": {},
     "output_type": "execute_result"
    }
   ],
   "source": [
    "def call_mouse(event, x, y, flags, param) :\n",
    "    global oldx, oldy\n",
    "    \n",
    "    if event == cv2.EVENT_LBUTTONDOWN :\n",
    "        oldx, oldy = x, y\n",
    "        \n",
    "    elif event == cv2.EVENT_MOUSEMOVE :\n",
    "        if flags == cv2.EVENT_FLAG_LBUTTON :\n",
    "            cv2.line(img, (oldx, oldy), (x,y), (0,0,255), 10 , cv2.LINE_AA)\n",
    "            cv2.imshow('image', img)\n",
    "            oldx, oldy = x, y\n",
    "\n",
    "img = np.ones((600, 1200, 3), np.uint8) * 255\n",
    "\n",
    "cv2.imshow('image', img)\n",
    "\n",
    "cv2.setMouseCallback('image', call_mouse, img)\n",
    "\n",
    "cv2.waitKey()\n",
    "cv2.destroyAllWindows()\n",
    "cv2.waitKey(1)"
   ]
  },
  {
   "cell_type": "code",
   "execution_count": 7,
   "metadata": {},
   "outputs": [
    {
     "data": {
      "text/plain": [
       "-1"
      ]
     },
     "execution_count": 7,
     "metadata": {},
     "output_type": "execute_result"
    }
   ],
   "source": [
    "cap = cv2.VideoCapture(0)\n",
    "\n",
    "if not cap.isOpened() :\n",
    "    print('camera open failed')\n",
    "    sys.exit()\n",
    "    \n",
    "while True :\n",
    "    ret, frame = cap.read()\n",
    "    \n",
    "    if not ret :\n",
    "        print('frame read failed')\n",
    "        break\n",
    "        \n",
    "    cv2.imshow('frame', frame)    \n",
    "    key = cv2.waitKey(20)\n",
    "    \n",
    "    if key == 27 :\n",
    "        break\n",
    "    \n",
    "        \n",
    "cap.release()\n",
    "cv2.destroyAllWindows()\n",
    "cv2.waitKey(1)"
   ]
  },
  {
   "cell_type": "code",
   "execution_count": 8,
   "metadata": {},
   "outputs": [
    {
     "data": {
      "text/plain": [
       "-1"
      ]
     },
     "execution_count": 8,
     "metadata": {},
     "output_type": "execute_result"
    }
   ],
   "source": [
    "cap = cv2.VideoCapture(0)\n",
    "\n",
    "if not cap.isOpened() :\n",
    "    print('camera open failed')\n",
    "    sys.exit()\n",
    "    \n",
    "w = int(cap.get(cv2.CAP_PROP_FRAME_WIDTH))\n",
    "h = int(cap.get(cv2.CAP_PROP_FRAME_HEIGHT))\n",
    "fps = int(cap.get(cv2.CAP_PROP_FPS))\n",
    "fourcc = cv2.VideoWriter_fourcc(*'avc1') # mac 은 다르다..\n",
    "\n",
    "out = cv2.VideoWriter('review.MP4', fourcc, fps, (w, h))\n",
    "    \n",
    "while True :\n",
    "    ret, frame = cap.read()\n",
    "    \n",
    "    if not ret :\n",
    "        print('frame read failed')\n",
    "        break\n",
    "        \n",
    "    cv2.imshow('frame', frame)    \n",
    "    \n",
    "    out.write(frame)\n",
    "    \n",
    "    key = cv2.waitKey(20)\n",
    "    \n",
    "    if key == 27 :\n",
    "        break\n",
    "    \n",
    "\n",
    "out.release()\n",
    "cap.release()\n",
    "cv2.destroyAllWindows()\n",
    "cv2.waitKey(1)"
   ]
  }
 ],
 "metadata": {
  "kernelspec": {
   "display_name": "Python 3",
   "language": "python",
   "name": "python3"
  },
  "language_info": {
   "codemirror_mode": {
    "name": "ipython",
    "version": 3
   },
   "file_extension": ".py",
   "mimetype": "text/x-python",
   "name": "python",
   "nbconvert_exporter": "python",
   "pygments_lexer": "ipython3",
   "version": "3.8.5"
  }
 },
 "nbformat": 4,
 "nbformat_minor": 4
}
