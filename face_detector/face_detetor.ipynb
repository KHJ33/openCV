{
 "cells": [
  {
   "cell_type": "code",
   "execution_count": 1,
   "metadata": {},
   "outputs": [],
   "source": [
    "import numpy as np\n",
    "import cv2\n",
    "import sys"
   ]
  },
  {
   "cell_type": "code",
   "execution_count": 15,
   "metadata": {},
   "outputs": [
    {
     "name": "stdout",
     "output_type": "stream",
     "text": [
      "(1, 1, 200, 7)\n",
      "(200, 7)\n"
     ]
    },
    {
     "data": {
      "text/plain": [
       "-1"
      ]
     },
     "execution_count": 15,
     "metadata": {},
     "output_type": "execute_result"
    }
   ],
   "source": [
    "model = './opencv_face_detector_uint8.pb'\n",
    "config = './opencv_face_detector.pbtxt.txt'\n",
    "\n",
    "img = cv2.imread('./ff.jpeg')\n",
    "\n",
    "face_net = cv2.dnn.readNet(model, config)\n",
    "\n",
    "if face_net.empty() :\n",
    "    print('model load failed')\n",
    "    sys.exit()\n",
    "\n",
    "# blobFromImage(image[, scalefactor[, size[, mean[, swapRB[, crop[, ddepth]]]]]]) -> retval\n",
    "blob = cv2.dnn.blobFromImage(img, 1, (300, 300), (104, 177, 123), \n",
    "                            swapRB = False) # bgr 로 traing 진행 했다\n",
    "\n",
    "face_net.setInput(blob)\n",
    "\n",
    "out = face_net.forward()\n",
    "print(out.shape)\n",
    "\n",
    "detect = out[0, 0, : , : ]\n",
    "print(detect.shape)\n",
    "\n",
    "h, w = img.shape[:2]\n",
    "\n",
    "for i in range(200) :\n",
    "    confidence = detect[i, 2]\n",
    "    \n",
    "    if confidence > 0.5 :\n",
    "        x1 = int(detect[i, 3] * w)\n",
    "        y1 = int(detect[i, 4] * h)\n",
    "        x2 = int(detect[i, 5] * w)\n",
    "        y2 = int(detect[i, 6] * h)\n",
    "        \n",
    "        cv2.rectangle(img, (x1, y1) , (x2, y2), (0,0,255) , 2)\n",
    "\n",
    "        text = 'Face : {} %'.format(round(confidence * 100, 2))\n",
    "\n",
    "        cv2.putText(img, text, (x1, y1 - 2), cv2.FONT_HERSHEY_COMPLEX, 0.8, (0,0,255), 1, cv2.LINE_AA)\n",
    "\n",
    "cv2.namedWindow('image', cv2.WINDOW_NORMAL)\n",
    "cv2.imshow('image', img)\n",
    "cv2.waitKey()\n",
    "cv2.destroyAllWindows()\n",
    "cv2.waitKey(1)"
   ]
  },
  {
   "cell_type": "markdown",
   "metadata": {},
   "source": [
    "# 동영상을 이용한 face detector"
   ]
  },
  {
   "cell_type": "code",
   "execution_count": 18,
   "metadata": {},
   "outputs": [
    {
     "data": {
      "text/plain": [
       "-1"
      ]
     },
     "execution_count": 18,
     "metadata": {},
     "output_type": "execute_result"
    }
   ],
   "source": [
    "cap = cv2.VideoCapture(0)\n",
    "\n",
    "if not cap.isOpened() :\n",
    "    print('video opend failed')\n",
    "    sys.exit()\n",
    "\n",
    "model = './opencv_face_detector_uint8.pb'\n",
    "config = './opencv_face_detector.pbtxt.txt'\n",
    "\n",
    "face_net = cv2.dnn.readNet(model, config)\n",
    "\n",
    "if face_net.empty() :\n",
    "    print('model load failed')\n",
    "    sys.exit()\n",
    "    \n",
    "while True :\n",
    "    ret, frame = cap.read()\n",
    "    frame = cv2.flip(frame , 1)\n",
    "    \n",
    "    if not ret:\n",
    "        print('frame read failed')\n",
    "        break\n",
    "        \n",
    "    blob = cv2.dnn.blobFromImage(frame, 1, (300, 300), (104, 177, 123), \n",
    "                        swapRB = False) # bgr 로 traing 진행 했다\n",
    "    face_net.setInput(blob)\n",
    "    out = face_net.forward()\n",
    "    detect = out[0, 0, : , :]\n",
    "    \n",
    "    h, w = frame.shape[:2]\n",
    "    \n",
    "    for i in range(200) :\n",
    "        confidence = detect[i, 2]\n",
    "        \n",
    "        if confidence > 0.5 :\n",
    "            x1 = int(detect[i, 3] * w)\n",
    "            y1 = int(detect[i, 4] * h)\n",
    "            x2 = int(detect[i, 5] * w)\n",
    "            y2 = int(detect[i, 6] * h)\n",
    "\n",
    "            cv2.rectangle(frame, (x1, y1) , (x2, y2), (0,0,255) , 2)\n",
    "\n",
    "            text = 'Face : {} %'.format(round(confidence * 100, 2))\n",
    "\n",
    "            cv2.putText(frame, text, (x1, y1 - 2), cv2.FONT_HERSHEY_COMPLEX, 0.8, (0,0,255), 1, cv2.LINE_AA)\n",
    "\n",
    "        \n",
    "    cv2.imshow('face', frame)\n",
    "    \n",
    "    key = cv2.waitKey(30)\n",
    "    if key == 27 :\n",
    "        break\n",
    "    \n",
    "cap.release()\n",
    "cv2.destroyAllWindows()\n",
    "cv2.waitKey(1)"
   ]
  },
  {
   "cell_type": "markdown",
   "metadata": {},
   "source": [
    "# caffe 모델 사용"
   ]
  },
  {
   "cell_type": "code",
   "execution_count": 21,
   "metadata": {},
   "outputs": [
    {
     "data": {
      "text/plain": [
       "-1"
      ]
     },
     "execution_count": 21,
     "metadata": {},
     "output_type": "execute_result"
    }
   ],
   "source": [
    "model = './res10_300x300_ssd_iter_140000_fp16.caffemodel'\n",
    "config = './deploy.prototxt.txt'\n",
    "\n",
    "net = cv2.dnn.readNet(model, config)\n",
    "\n",
    "if net.empty() :\n",
    "    print('model load failed')\n",
    "    sys.exit()\n",
    "    \n",
    "cap = cv2.VideoCapture(0)\n",
    "if not cap.isOpened():\n",
    "    print('Go home')\n",
    "    sys.exit()\n",
    "    \n",
    "while True :\n",
    "    \n",
    "    ret , frame = cap.read()\n",
    "    \n",
    "    if not ret :\n",
    "        print('frame read failed')\n",
    "        break\n",
    "        \n",
    "    blob = cv2.dnn.blobFromImage(frame, 1, (300, 300), (104, 177, 123), swapRB = False)\n",
    "    net.setInput(blob)\n",
    "    out = net.forward()\n",
    "    \n",
    "    detect = out[0,0, :, :]\n",
    "    \n",
    "    h, w = frame.shape[:2]\n",
    "    \n",
    "    for i in range(200) :\n",
    "        confidence = detect[i, 2]\n",
    "        \n",
    "        if confidence > 0.5 :\n",
    "            x1 = int(detect[i,3] * w)\n",
    "            y1 = int(detect[i,4] * h)\n",
    "            x2 = int(detect[i,5] * w)\n",
    "            y2 = int(detect[i,6] * h)\n",
    "            \n",
    "            cv2.rectangle(frame, (x1, y1), (x2, y2), (0, 0 , 255), 2)\n",
    "            text = f'Face : {confidence * 100 :.2f} %'\n",
    "            \n",
    "            cv2.putText(frame, text, (x1, y1 - 2), cv2.FONT_HERSHEY_COMPLEX, 1, (0, 0, 255), 1, cv2.LINE_AA)\n",
    "        \n",
    "    cv2.imshow('image', frame)\n",
    "    \n",
    "    if cv2.waitKey(20) == 27 :\n",
    "        break\n",
    "    \n",
    "cap.release()\n",
    "cv2.destroyAllWindows()\n",
    "cv2.waitKey(1)"
   ]
  },
  {
   "cell_type": "code",
   "execution_count": null,
   "metadata": {},
   "outputs": [],
   "source": []
  }
 ],
 "metadata": {
  "kernelspec": {
   "display_name": "Python 3",
   "language": "python",
   "name": "python3"
  },
  "language_info": {
   "codemirror_mode": {
    "name": "ipython",
    "version": 3
   },
   "file_extension": ".py",
   "mimetype": "text/x-python",
   "name": "python",
   "nbconvert_exporter": "python",
   "pygments_lexer": "ipython3",
   "version": "3.8.5"
  }
 },
 "nbformat": 4,
 "nbformat_minor": 4
}
