{
 "cells": [
  {
   "cell_type": "code",
   "execution_count": 1,
   "metadata": {},
   "outputs": [
    {
     "name": "stdout",
     "output_type": "stream",
     "text": [
      "Collecting pytesseract\n",
      "  Downloading pytesseract-0.3.10-py3-none-any.whl (14 kB)\n",
      "Collecting packaging>=21.3\n",
      "  Using cached packaging-21.3-py3-none-any.whl (40 kB)\n",
      "Requirement already satisfied: Pillow>=8.0.0 in /Users/kimhyunjo/opt/anaconda3/lib/python3.8/site-packages (from pytesseract) (8.0.1)\n",
      "Requirement already satisfied: pyparsing!=3.0.5,>=2.0.2 in /Users/kimhyunjo/opt/anaconda3/lib/python3.8/site-packages (from packaging>=21.3->pytesseract) (2.4.7)\n",
      "Installing collected packages: packaging, pytesseract\n",
      "  Attempting uninstall: packaging\n",
      "    Found existing installation: packaging 20.4\n",
      "    Uninstalling packaging-20.4:\n",
      "      Successfully uninstalled packaging-20.4\n",
      "Successfully installed packaging-21.3 pytesseract-0.3.10\n"
     ]
    }
   ],
   "source": [
    "!pip install pytesseract"
   ]
  },
  {
   "cell_type": "code",
   "execution_count": 2,
   "metadata": {},
   "outputs": [],
   "source": [
    "import numpy as np\n",
    "from pytesseract import Output\n",
    "import pytesseract\n",
    "import cv2"
   ]
  },
  {
   "cell_type": "code",
   "execution_count": 12,
   "metadata": {},
   "outputs": [
    {
     "name": "stdout",
     "output_type": "stream",
     "text": [
      "{'level': [1, 2, 3, 4, 5, 5, 2, 3, 4, 5, 5, 2, 3, 4, 5, 5, 5, 5, 5, 5, 4, 5, 5, 5, 5, 4, 5, 5, 5, 5], 'page_num': [1, 1, 1, 1, 1, 1, 1, 1, 1, 1, 1, 1, 1, 1, 1, 1, 1, 1, 1, 1, 1, 1, 1, 1, 1, 1, 1, 1, 1, 1], 'block_num': [0, 1, 1, 1, 1, 1, 2, 2, 2, 2, 2, 3, 3, 3, 3, 3, 3, 3, 3, 3, 3, 3, 3, 3, 3, 3, 3, 3, 3, 3], 'par_num': [0, 0, 1, 1, 1, 1, 0, 1, 1, 1, 1, 0, 1, 1, 1, 1, 1, 1, 1, 1, 1, 1, 1, 1, 1, 1, 1, 1, 1, 1], 'line_num': [0, 0, 0, 1, 1, 1, 0, 0, 1, 1, 1, 0, 0, 1, 1, 1, 1, 1, 1, 1, 2, 2, 2, 2, 2, 3, 3, 3, 3, 3], 'word_num': [0, 0, 0, 0, 1, 2, 0, 0, 0, 1, 2, 0, 0, 0, 1, 2, 3, 4, 5, 6, 0, 1, 2, 3, 4, 0, 1, 2, 3, 4], 'left': [0, 21, 21, 21, 21, 180, 47, 47, 47, 47, 276, 45, 45, 45, 45, 156, 267, 381, 473, 620, 46, 46, 110, 462, 526, 46, 46, 110, 462, 526], 'top': [0, 23, 23, 23, 23, 61, 292, 292, 292, 292, 307, 411, 411, 411, 411, 411, 411, 412, 411, 411, 478, 479, 479, 479, 478, 537, 539, 539, 539, 537], 'width': [924, 320, 320, 320, 128, 161, 315, 315, 315, 181, 86, 836, 836, 690, 97, 100, 97, 81, 131, 115, 716, 31, 236, 31, 236, 835, 39, 275, 32, 355], 'height': [610, 122, 122, 122, 122, 51, 54, 54, 54, 54, 35, 166, 166, 38, 36, 36, 36, 32, 37, 38, 35, 34, 31, 34, 33, 40, 34, 31, 34, 40], 'conf': [-1, -1, -1, -1, 30, 69, -1, -1, -1, 44, 73, -1, -1, -1, 0, 18, 31, 92, 48, 0, -1, 77, 88, 79, 87, -1, 85, 64, 37, 73], 'text': ['', '', '', '', '&', '222', '', '', '', 'UMW', 'we', '', '', '', 'WBA', 'Ca', 'Se', '1004', 'Mawes', '1004E', '', 'T.', '02-123-4567', 'F,', '02-123-4567', '', 'M.', '010-1234-5678', ' .', 'angell004@angel_kr']}\n"
     ]
    },
    {
     "data": {
      "text/plain": [
       "-1"
      ]
     },
     "execution_count": 12,
     "metadata": {},
     "output_type": "execute_result"
    }
   ],
   "source": [
    "img = cv2.imread('./image_02.png',0)\n",
    "\n",
    "ret, img2 = cv2.threshold(img, 127, 255, cv2.THRESH_BINARY_INV)\n",
    "\n",
    "cv2.imshow('image', img)\n",
    "\n",
    "result = pytesseract.image_to_data(img, output_type=Output.DICT)\n",
    "\n",
    "print(result)\n",
    "\n",
    "cv2.waitKey()\n",
    "cv2.destroyAllWindows()\n",
    "cv2.waitKey(1)"
   ]
  },
  {
   "cell_type": "code",
   "execution_count": 14,
   "metadata": {},
   "outputs": [
    {
     "data": {
      "text/plain": [
       "-1"
      ]
     },
     "execution_count": 14,
     "metadata": {},
     "output_type": "execute_result"
    }
   ],
   "source": [
    "for i in range(0, len(result['text'])) :\n",
    "    x = result['left'][i]\n",
    "    y = result['top'][i]\n",
    "    \n",
    "    w = result['width'][i]\n",
    "    h = result['height'][i]\n",
    "    \n",
    "    text = result['text'][i]\n",
    "    \n",
    "    conf = int(result['conf'][i])\n",
    "    \n",
    "    if conf > 50 :\n",
    "        cv2.rectangle(img, (x,y), (x + w, y + h), (0, 255, 0), 2)\n",
    "        cv2.putText(img, text, (x, y - 2), cv2.FONT_HERSHEY_COMPLEX, 1, (0, 0, 200), 2, cv2.LINE_AA)\n",
    "        \n",
    "        \n",
    "cv2.imshow('image', img)\n",
    "cv2.waitKey()\n",
    "cv2.destroyAllWindows()\n",
    "cv2.waitKey(1)"
   ]
  },
  {
   "cell_type": "markdown",
   "metadata": {},
   "source": [
    "# 동영상으로 읽기"
   ]
  },
  {
   "cell_type": "code",
   "execution_count": 11,
   "metadata": {},
   "outputs": [
    {
     "data": {
      "text/plain": [
       "-1"
      ]
     },
     "execution_count": 11,
     "metadata": {},
     "output_type": "execute_result"
    }
   ],
   "source": [
    "cap = cv2.VideoCapture(0)\n",
    "if not cap.isOpened():\n",
    "    print('Go home')\n",
    "    sys.exit()\n",
    "    \n",
    "while True :\n",
    "    ret, frame = cap.read()\n",
    "    \n",
    "    if not ret :\n",
    "        print('frame read fail')\n",
    "        break\n",
    "    \n",
    "    frame = cv2.cvtColor(frame, cv2.COLOR_BGR2GRAY)\n",
    "    ret2, img2 = cv2.threshold(frame, 127, 255, cv2.THRESH_BINARY_INV)\n",
    "#     cv2.imshow('frame',gray)\n",
    "    cv2.imshow('frame', img2)\n",
    "    result = pytesseract.image_to_data(frame, output_type=Output.DICT)\n",
    "    \n",
    "    for i in range(len(result['text'])) :\n",
    "        x = result['left'][i]\n",
    "        y = result['top'][i]\n",
    "\n",
    "        w = result['width'][i]\n",
    "        h = result['height'][i]\n",
    "\n",
    "        text = result['text'][i]\n",
    "\n",
    "        conf = int(result['conf'][i])\n",
    "    \n",
    "        if conf > 70 :\n",
    "            cv2.rectangle(img2, (x,y), (x + w, y + h), (0, 255, 0), 2)\n",
    "            cv2.putText(img2, text, (x, y - 2), cv2.FONT_HERSHEY_COMPLEX, 1, (0, 0, 200), 2, cv2.LINE_AA)\n",
    "        \n",
    "    if cv2.waitKey(20) == 27 :\n",
    "        break\n",
    "    \n",
    "cap.release()\n",
    "cv2.destroyAllWindows()\n",
    "cv2.waitKey(1)"
   ]
  },
  {
   "cell_type": "code",
   "execution_count": null,
   "metadata": {},
   "outputs": [],
   "source": []
  }
 ],
 "metadata": {
  "kernelspec": {
   "display_name": "Python 3",
   "language": "python",
   "name": "python3"
  },
  "language_info": {
   "codemirror_mode": {
    "name": "ipython",
    "version": 3
   },
   "file_extension": ".py",
   "mimetype": "text/x-python",
   "name": "python",
   "nbconvert_exporter": "python",
   "pygments_lexer": "ipython3",
   "version": "3.8.5"
  }
 },
 "nbformat": 4,
 "nbformat_minor": 4
}
