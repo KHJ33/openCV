{
 "cells": [
  {
   "cell_type": "code",
   "execution_count": 1,
   "metadata": {},
   "outputs": [],
   "source": [
    "import cv2\n",
    "import sys\n",
    "import numpy as np"
   ]
  },
  {
   "cell_type": "code",
   "execution_count": null,
   "metadata": {},
   "outputs": [],
   "source": [
    "img1 = cv2.imread('./fig/puppy.bmp', cv2.IMREAD_GRAYSCALE)\n",
    "img2 = cv2.imread('./fig/puppy_1280_853.jpg', cv2.IMREAD_COLOR)\n",
    "\n",
    "print(type(img1), type(img2))\n",
    "print('image1 shape : ', img1.shape)\n",
    "print('image2 shape : ', img2.shape)\n",
    "\n",
    "print('image1 data type : ', img1.dtype)\n",
    "print('image2 data type : ', img2.dtype)"
   ]
  },
  {
   "cell_type": "code",
   "execution_count": null,
   "metadata": {},
   "outputs": [],
   "source": [
    "h, w = img1.shape\n",
    "print('image size : {} x {}'.format(w,h))\n",
    "\n",
    "h, w = img2.shape[:2]\n",
    "print('image size : {} x {}'.format(w,h))"
   ]
  },
  {
   "cell_type": "code",
   "execution_count": 2,
   "metadata": {},
   "outputs": [
    {
     "name": "stdout",
     "output_type": "stream",
     "text": [
      "image size : 640 x 480\n",
      "20\n"
     ]
    },
    {
     "data": {
      "text/plain": [
       "-1"
      ]
     },
     "execution_count": 2,
     "metadata": {},
     "output_type": "execute_result"
    }
   ],
   "source": [
    "img1 = cv2.imread('./fig/puppy.bmp', cv2.IMREAD_GRAYSCALE)\n",
    "\n",
    "if img1 is None :\n",
    "    print('image read failed')\n",
    "    sys.exit()\n",
    "    \n",
    "h, w = img1.shape\n",
    "print('image size : {} x {}'.format(w,h))\n",
    "\n",
    "p1 = img1[h//2, w//2]\n",
    "print(p1)\n",
    "\n",
    "### 중앙에 있는 값을 0으로 변경\n",
    "img1[10 : 50, 50 : 200] = 0\n",
    "    \n",
    "cv2.namedWindow('image')\n",
    "cv2.imshow('image', img1)\n",
    "\n",
    "while True :\n",
    "    key = cv2.waitKey()\n",
    "    if key == 27 :\n",
    "        break\n",
    "        \n",
    "cv2.destroyAllWindows()\n",
    "cv2.waitKey(1)"
   ]
  },
  {
   "cell_type": "code",
   "execution_count": null,
   "metadata": {},
   "outputs": [],
   "source": [
    "img1 = cv2.imread('./fig/puppy.bmp', cv2.IMREAD_COLOR)\n",
    "\n",
    "if img1 is None :\n",
    "    print('image read failed')\n",
    "    sys.exit()\n",
    "    \n",
    "h, w = img1.shape[:2]\n",
    "print('image size : {} x {}'.format(w,h))\n",
    "\n",
    "p1 = img1[h//2, w//2]\n",
    "print(p1)\n",
    "\n",
    "### 중앙에 있는 값을 0으로 변경\n",
    "img1[10 : 50, 50 : 200] = (0,0,255)\n",
    "    \n",
    "cv2.namedWindow('image')\n",
    "cv2.imshow('image', img1)\n",
    "\n",
    "while True :\n",
    "    key = cv2.waitKey()\n",
    "    if key == 27 :\n",
    "        break\n",
    "        \n",
    "cv2.destroyAllWindows()\n",
    "cv2.waitKey(1)"
   ]
  },
  {
   "cell_type": "markdown",
   "metadata": {},
   "source": [
    "## 강아지 눈 위치 검은색으로 변경"
   ]
  },
  {
   "cell_type": "code",
   "execution_count": null,
   "metadata": {},
   "outputs": [],
   "source": [
    "import matplotlib.pyplot as plt"
   ]
  },
  {
   "cell_type": "code",
   "execution_count": null,
   "metadata": {},
   "outputs": [],
   "source": [
    "img1 = cv2.imread('./fig/puppy.bmp', cv2.IMREAD_COLOR)\n",
    "\n",
    "if img1 is None :\n",
    "    print('image read failed')\n",
    "    sys.exit()\n",
    "    \n",
    "h, w = img1.shape[:2]\n",
    "print('image size : {} x {}'.format(w,h))\n",
    "\n",
    "p1 = img1[h//2, w//2]\n",
    "print(p1)\n",
    "\n",
    "\n",
    "# plt.imshow(img1)\n",
    "\n",
    "\n",
    "### 중앙에 있는 값을 0으로 변경\n",
    "img1[150 : 230, 270 : 480] = (0,0,0)\n",
    "    \n",
    "cv2.namedWindow('image')\n",
    "cv2.imshow('image', img1)\n",
    "\n",
    "while True :\n",
    "    key = cv2.waitKey()\n",
    "    if key == 27 :\n",
    "        break\n",
    "        \n",
    "cv2.destroyAllWindows()\n",
    "cv2.waitKey(1)"
   ]
  },
  {
   "cell_type": "code",
   "execution_count": 8,
   "metadata": {},
   "outputs": [
    {
     "data": {
      "text/plain": [
       "-1"
      ]
     },
     "execution_count": 8,
     "metadata": {},
     "output_type": "execute_result"
    }
   ],
   "source": [
    "# zeros(shape, dtype = float, order = 'C', * , like = None)\n",
    "img1 = np.zeros((400, 600), dtype = np.uint8)\n",
    "img2 = np.ones((400, 600, 3), dtype = np.uint8)*255\n",
    "img3 = np.full((400, 600, 3),(0,255,255) ,dtype = np.uint8)\n",
    "img4 = np.random.randint(0,255, (600,400), dtype = np.uint8 )\n",
    "\n",
    "cv2.imshow('img1',img1)\n",
    "cv2.imshow('img2', img2)\n",
    "cv2.imshow('img3',img3)\n",
    "cv2.imshow('img4',img4)\n",
    "\n",
    "while True :\n",
    "    key = cv2.waitKey()\n",
    "    if key == 27 :\n",
    "        break\n",
    "\n",
    "cv2.destroyAllWindows()\n",
    "cv2.waitKey(1)"
   ]
  },
  {
   "cell_type": "code",
   "execution_count": 6,
   "metadata": {},
   "outputs": [
    {
     "data": {
      "text/plain": [
       "-1"
      ]
     },
     "execution_count": 6,
     "metadata": {},
     "output_type": "execute_result"
    }
   ],
   "source": [
    "img = cv2.imread('./fig/puppy.bmp')\n",
    "\n",
    "img1 = img.copy()\n",
    "\n",
    "img1[150 : 230, 270 : 480] = (0,0,0)\n",
    "\n",
    "cv2.imshow('image', img)\n",
    "cv2.imshow('image1', img1)\n",
    "\n",
    "cv2.waitKey()\n",
    "cv2.destroyAllWindows\n",
    "cv2.waitKey(1)"
   ]
  },
  {
   "cell_type": "code",
   "execution_count": null,
   "metadata": {},
   "outputs": [],
   "source": []
  }
 ],
 "metadata": {
  "kernelspec": {
   "display_name": "Python 3",
   "language": "python",
   "name": "python3"
  },
  "language_info": {
   "codemirror_mode": {
    "name": "ipython",
    "version": 3
   },
   "file_extension": ".py",
   "mimetype": "text/x-python",
   "name": "python",
   "nbconvert_exporter": "python",
   "pygments_lexer": "ipython3",
   "version": "3.8.5"
  }
 },
 "nbformat": 4,
 "nbformat_minor": 4
}
