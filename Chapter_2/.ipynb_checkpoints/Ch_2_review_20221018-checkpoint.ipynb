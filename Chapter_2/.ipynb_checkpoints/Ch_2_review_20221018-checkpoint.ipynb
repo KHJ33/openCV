{
 "cells": [
  {
   "cell_type": "code",
   "execution_count": 1,
   "metadata": {},
   "outputs": [],
   "source": [
    "import cv2\n",
    "import numpy as np\n",
    "import sys"
   ]
  },
  {
   "cell_type": "code",
   "execution_count": 3,
   "metadata": {},
   "outputs": [
    {
     "data": {
      "text/plain": [
       "-1"
      ]
     },
     "execution_count": 3,
     "metadata": {},
     "output_type": "execute_result"
    }
   ],
   "source": [
    "img = cv2.imread('./fig/puppy.bmp', cv2.IMREAD_COLOR)\n",
    "imgRGB = cv2.cvtColor(img, cv2.COLOR_BGR2RGB)\n",
    "\n",
    "\n",
    "if img is None :\n",
    "    print('image read failed')\n",
    "    sys.exit()\n",
    "    \n",
    "cv2.namedWindow('image', cv2.WINDOW_AUTOSIZE)\n",
    "cv2.imshow('image', img)\n",
    "\n",
    "img_resize = cv2.resize(img, (600, 400), interpolation = cv2.INTER_LINEAR)\n",
    "cv2.imwrite('./fig/test.png', img_resize)\n",
    "\n",
    "\n",
    "\n",
    "while True :\n",
    "    key = cv2.waitKey()\n",
    "    \n",
    "    if key == 27 or key == ord('q') :\n",
    "        break\n",
    "\n",
    "cv2.destroyAllWindows()\n",
    "cv2.waitKey(1)"
   ]
  },
  {
   "cell_type": "code",
   "execution_count": 4,
   "metadata": {},
   "outputs": [],
   "source": [
    "import glob"
   ]
  },
  {
   "cell_type": "code",
   "execution_count": 5,
   "metadata": {},
   "outputs": [
    {
     "data": {
      "text/plain": [
       "['../Chapter_1/fig/my_images/pexels-james-wheeler-1542495.jpg',\n",
       " '../Chapter_1/fig/my_images/pexels-darwis-alwan-1808329.jpg',\n",
       " '../Chapter_1/fig/my_images/pexels-mike-145685.jpg',\n",
       " '../Chapter_1/fig/my_images/pexels-pixabay-46164.jpg']"
      ]
     },
     "execution_count": 5,
     "metadata": {},
     "output_type": "execute_result"
    }
   ],
   "source": [
    "img_files = glob.glob('../Chapter_1/fig/my_images/*.*')\n",
    "img_files"
   ]
  },
  {
   "cell_type": "code",
   "execution_count": 6,
   "metadata": {},
   "outputs": [
    {
     "data": {
      "text/plain": [
       "-1"
      ]
     },
     "execution_count": 6,
     "metadata": {},
     "output_type": "execute_result"
    }
   ],
   "source": [
    "cv2.namedWindow('scene', cv2.WINDOW_NORMAL)\n",
    "# cv2.setWindowProperty('scene', cv2.WND_PROP_FULLSCREEN, cv2.WINDOW_FULLSCREEN)\n",
    "\n",
    "idx = 0\n",
    "while True :\n",
    "    img = cv2.imread(img_files[idx])\n",
    "    \n",
    "    if img is None :\n",
    "        print('image read failed')\n",
    "        break\n",
    "    \n",
    "    cv2.imshow('scene', img)\n",
    "    \n",
    "    key = cv2.waitKey(3000)\n",
    "    \n",
    "    if key == 27 or key == ord('q') :\n",
    "        break\n",
    "    \n",
    "    idx += 1\n",
    "    if idx >= len(img_files) :\n",
    "        idx = 0\n",
    "\n",
    "cv2.destroyAllWindows()\n",
    "cv2.waitKey(1)"
   ]
  },
  {
   "cell_type": "code",
   "execution_count": 9,
   "metadata": {},
   "outputs": [
    {
     "name": "stdout",
     "output_type": "stream",
     "text": [
      "(480, 640)\n",
      "(480, 640, 3)\n",
      "uint8\n",
      "uint8\n"
     ]
    }
   ],
   "source": [
    "img1 = cv2.imread('./fig/puppy.bmp', 0)\n",
    "img2 = cv2.imread('./fig/puppy.bmp', 1)\n",
    "\n",
    "print(img1.shape)\n",
    "print(img2.shape)\n",
    "\n",
    "print(img1.dtype)\n",
    "print(img2.dtype)\n",
    "\n",
    "h, w = img2.shape[:2]"
   ]
  },
  {
   "cell_type": "code",
   "execution_count": 11,
   "metadata": {},
   "outputs": [
    {
     "name": "stdout",
     "output_type": "stream",
     "text": [
      "[ 0 14 40]\n"
     ]
    },
    {
     "data": {
      "text/plain": [
       "-1"
      ]
     },
     "execution_count": 11,
     "metadata": {},
     "output_type": "execute_result"
    }
   ],
   "source": [
    "img2 = cv2.imread('./fig/puppy.bmp', 1)\n",
    "\n",
    "img2[100 : 200 , 400 : 600] = (0, 0 , 255) # y축, x 축\n",
    "\n",
    "h, w = img2.shape[:2]\n",
    "\n",
    "p = img2[h//2, w//2]\n",
    "\n",
    "print(p)\n",
    "\n",
    "cv2.imshow('image', img2)\n",
    "cv2.waitKey()\n",
    "cv2.destroyAllWindows()\n",
    "cv2.waitKey(1)"
   ]
  },
  {
   "cell_type": "code",
   "execution_count": 13,
   "metadata": {},
   "outputs": [
    {
     "data": {
      "text/plain": [
       "-1"
      ]
     },
     "execution_count": 13,
     "metadata": {},
     "output_type": "execute_result"
    }
   ],
   "source": [
    "img1 = np.zeros((600,400, 3), np.uint8)\n",
    "img2 = np.ones((600,400,3), np.uint8) * 255\n",
    "img3 = np.full((600,400,3), (123, 88, 13), np.uint8)\n",
    "\n",
    "\n",
    "cv2.imshow('image1',img1)\n",
    "cv2.imshow('image2',img2)\n",
    "cv2.imshow('image3',img3)\n",
    "\n",
    "\n",
    "cv2.waitKey()\n",
    "cv2.destroyAllWindows()\n",
    "cv2.waitKey(1)"
   ]
  },
  {
   "cell_type": "code",
   "execution_count": 14,
   "metadata": {},
   "outputs": [
    {
     "data": {
      "text/plain": [
       "-1"
      ]
     },
     "execution_count": 14,
     "metadata": {},
     "output_type": "execute_result"
    }
   ],
   "source": [
    "img1 = cv2.imread('./fig/puppy.bmp', 1)\n",
    "\n",
    "img2 = img1.copy()\n",
    "\n",
    "img2[100 : 200 , 400 : 600] = (0, 0, 255)\n",
    "\n",
    "\n",
    "cv2.imshow('image1',img1)\n",
    "cv2.imshow('image2',img2)\n",
    "\n",
    "\n",
    "cv2.waitKey()\n",
    "cv2.destroyAllWindows()\n",
    "cv2.waitKey(1)"
   ]
  },
  {
   "cell_type": "markdown",
   "metadata": {},
   "source": [
    "## 신규 수업 진행"
   ]
  },
  {
   "cell_type": "code",
   "execution_count": 19,
   "metadata": {},
   "outputs": [
    {
     "data": {
      "text/plain": [
       "-1"
      ]
     },
     "execution_count": 19,
     "metadata": {},
     "output_type": "execute_result"
    }
   ],
   "source": [
    "img = cv2.imread('./fig/puppy.bmp')\n",
    "\n",
    "img1 = img[200 : 400, 300 : 500]\n",
    "img2 = img[200 : 400, 300 : 500].copy()\n",
    "\n",
    "# circle(img, center, radius, color[, thickness[, lineType[, shift]]]) -> img\n",
    "cv2.circle(img1,(100, 100), 50, (0,0,255), 1, cv2.LINE_AA) # LINE_AA 픽셀은 사각형이라 원을 완벽하게 그릴수 없다. 픽셀을 뭉개준다\n",
    "cv2.circle(img2,(100, 100), 50, (255,0,255), -1, )\n",
    "\n",
    "cv2.imshow('image', img)\n",
    "cv2.imshow('image1', img1)\n",
    "cv2.imshow('image2', img2)\n",
    "\n",
    "cv2.waitKey()\n",
    "cv2.destroyAllWindows()\n",
    "cv2.waitKey(1)"
   ]
  },
  {
   "cell_type": "code",
   "execution_count": 22,
   "metadata": {},
   "outputs": [
    {
     "data": {
      "text/plain": [
       "-1"
      ]
     },
     "execution_count": 22,
     "metadata": {},
     "output_type": "execute_result"
    }
   ],
   "source": [
    "img = cv2.imread('./fig/green.png')\n",
    "\n",
    "img1 = img[200 : 400, 600 : 1000]\n",
    "\n",
    "cv2.circle(img1,(100, 100), 50, (0,0,255), -1, cv2.LINE_AA)\n",
    "\n",
    "cv2.imshow('image', img)\n",
    "cv2.imshow('image1', img1)\n",
    "\n",
    "cv2.waitKey()\n",
    "cv2.destroyAllWindows()\n",
    "cv2.waitKey(1)"
   ]
  },
  {
   "cell_type": "markdown",
   "metadata": {},
   "source": [
    "### 사이즈가 동일 해야 한다\n",
    "#### 마스크가 존재 해야 한다"
   ]
  },
  {
   "cell_type": "code",
   "execution_count": 27,
   "metadata": {},
   "outputs": [],
   "source": [
    "src = cv2.imread('./fig/airplane.bmp')\n",
    "mask = cv2.imread('./fig/mask_plane.bmp', 0)\n",
    "dst = cv2.imread('./fig/field.bmp')\n",
    "\n",
    "if src is None or mask is None or dst is None :\n",
    "    print('image read failed')\n",
    "    sys.exit()\n",
    "    \n",
    "cv2.copyTo(src, mask , dst)\n",
    "dst2 = cv2.copyTo(src, mask)\n",
    "    \n",
    "cv2.imshow('src', src)\n",
    "cv2.imshow('mask', mask)\n",
    "cv2.imshow('dst', dst)\n",
    "# cv2.imshow('dst2', dst2)\n",
    "\n",
    "if cv2.waitKey() == 27 :\n",
    "    cv2.destroyAllWindows()\n",
    "    cv2.waitKey(1)"
   ]
  },
  {
   "cell_type": "markdown",
   "metadata": {},
   "source": [
    "### 방법 1 (빨간색 비행기로 옮기기)"
   ]
  },
  {
   "cell_type": "code",
   "execution_count": 35,
   "metadata": {},
   "outputs": [],
   "source": [
    "src = cv2.imread('./fig/airplane.bmp')\n",
    "mask = cv2.imread('./fig/mask_plane.bmp', 0)\n",
    "dst = cv2.imread('./fig/field.bmp')\n",
    "\n",
    "dst2 = np.full(src.shape, (0, 0, 255), np.uint8)\n",
    "\n",
    "if src is None or mask is None or dst is None :\n",
    "    print('image read failed')\n",
    "    sys.exit()\n",
    "    \n",
    "cv2.copyTo(dst2, mask , dst)\n",
    "# dst2 = cv2.copyTo(src, mask)\n",
    "    \n",
    "cv2.imshow('src', src)\n",
    "cv2.imshow('mask', mask)\n",
    "cv2.imshow('dst', dst)\n",
    "cv2.imshow('dst2',dst2)\n",
    "# cv2.imshow('dst2', dst2)\n",
    "\n",
    "if cv2.waitKey() == 27 :\n",
    "    cv2.destroyAllWindows()\n",
    "    cv2.waitKey(1)"
   ]
  },
  {
   "cell_type": "code",
   "execution_count": 29,
   "metadata": {},
   "outputs": [
    {
     "data": {
      "text/plain": [
       "(400, 600, 3)"
      ]
     },
     "execution_count": 29,
     "metadata": {},
     "output_type": "execute_result"
    }
   ],
   "source": [
    "src.shape"
   ]
  },
  {
   "cell_type": "markdown",
   "metadata": {},
   "source": [
    "### 방법 2(빨간색 비행기로 옮기기) *****"
   ]
  },
  {
   "cell_type": "code",
   "execution_count": 38,
   "metadata": {},
   "outputs": [],
   "source": [
    "src = cv2.imread('./fig/airplane.bmp')\n",
    "mask = cv2.imread('./fig/mask_plane.bmp', 0)\n",
    "dst = cv2.imread('./fig/field.bmp')\n",
    "\n",
    "if src is None or mask is None or dst is None :\n",
    "    print('image read failed')\n",
    "    sys.exit()\n",
    "    \n",
    "cv2.copyTo(src, mask , dst)\n",
    "\n",
    "dst[mask > 0] = (0,0,255)\n",
    "dst[mask > 0] = src[mas > 0]\n",
    "\n",
    "cv2.imshow('src', src)\n",
    "cv2.imshow('mask', mask)\n",
    "cv2.imshow('dst', dst)\n",
    "\n",
    "if cv2.waitKey() == 27 :\n",
    "    cv2.destroyAllWindows()\n",
    "    cv2.waitKey(1)"
   ]
  },
  {
   "cell_type": "markdown",
   "metadata": {},
   "source": [
    "## 마스크 영상이 없을 경우"
   ]
  },
  {
   "cell_type": "code",
   "execution_count": 47,
   "metadata": {},
   "outputs": [],
   "source": [
    "src = cv2.imread('./fig/cow.png') # 물체와 물체가 아닌것이 구분되어 있는 경우\n",
    "dst = cv2.imread('./fig/green.png') # 영상의 사이즈가 동일하지 않다.\n",
    "\n",
    "h, w = src.shape[:2]\n",
    "\n",
    "dst = cv2.resize(dst, (w, h), interpolation = cv2.INTER_LINEAR)\n",
    "\n",
    "src_gray = cv2.cvtColor(src, cv2.COLOR_BGR2GRAY)\n",
    "\n",
    "retval , mask = cv2.threshold(src_gray, 240, 255 , cv2.THRESH_BINARY_INV)\n",
    "\n",
    "cv2.copyTo(src, mask, dst)\n",
    "\n",
    "cv2.imshow('src',src)\n",
    "cv2.imshow('src_gray',src_gray)\n",
    "cv2.imshow('mask',mask)\n",
    "cv2.imshow('dst',dst)\n",
    "\n",
    "\n",
    "\n",
    "if cv2.waitKey() == 27 :\n",
    "    cv2.destroyAllWindows()\n",
    "    cv2.waitKey(1)"
   ]
  },
  {
   "cell_type": "markdown",
   "metadata": {},
   "source": [
    "## 푸른 들판에 송아지만 넣는다"
   ]
  },
  {
   "cell_type": "code",
   "execution_count": 58,
   "metadata": {},
   "outputs": [
    {
     "name": "stdout",
     "output_type": "stream",
     "text": [
      "(150, 150, 3)\n"
     ]
    }
   ],
   "source": [
    "src = cv2.imread('./fig/cow.png') # 물체와 물체가 아닌것이 구분되어 있는 경우\n",
    "dst = cv2.imread('./fig/green.png') # 영상의 사이즈가 동일하지 않다.\n",
    "\n",
    "h, w = src.shape[:2]\n",
    "\n",
    "src = cv2.resize(src, (w//4 , h//4), interpolation = cv2.INTER_LINEAR)\n",
    "\n",
    "print(src.shape)\n",
    "\n",
    "img = dst[ 900 : 1050 , 600 : 750]\n",
    "\n",
    "\n",
    "src_gray = cv2.cvtColor(src, cv2.COLOR_BGR2GRAY)\n",
    "retval , mask = cv2.threshold(src_gray, 240, 255 , cv2.THRESH_BINARY_INV)\n",
    "\n",
    "cv2.copyTo(src, mask, img)\n",
    "\n",
    "cv2.imshow('img',img)\n",
    "cv2.imshow('src',src)\n",
    "# cv2.imshow('src_gray',src_gray)\n",
    "cv2.imshow('mask',mask)\n",
    "cv2.imshow('dst',dst)\n",
    "\n",
    "\n",
    "\n",
    "if cv2.waitKey() == 27 :\n",
    "    cv2.destroyAllWindows()\n",
    "    cv2.waitKey(1)"
   ]
  }
 ],
 "metadata": {
  "kernelspec": {
   "display_name": "Python 3",
   "language": "python",
   "name": "python3"
  },
  "language_info": {
   "codemirror_mode": {
    "name": "ipython",
    "version": 3
   },
   "file_extension": ".py",
   "mimetype": "text/x-python",
   "name": "python",
   "nbconvert_exporter": "python",
   "pygments_lexer": "ipython3",
   "version": "3.8.5"
  }
 },
 "nbformat": 4,
 "nbformat_minor": 4
}
