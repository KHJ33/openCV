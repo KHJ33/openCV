{
 "cells": [
  {
   "cell_type": "code",
   "execution_count": null,
   "metadata": {},
   "outputs": [],
   "source": [
    "import cv2\n",
    "import numpy as np\n",
    "import sys"
   ]
  },
  {
   "cell_type": "code",
   "execution_count": null,
   "metadata": {},
   "outputs": [],
   "source": [
    "cap = cv2.VideoCapture(0)\n",
    "\n",
    "if not cap.isOpened() :\n",
    "    print('video open failed')\n",
    "    sys.exit()\n",
    "    \n",
    "w = int(cap.get(cv2.CAP_PROP_FRAME_WIDTH))\n",
    "h = int(cap.get(cv2.CAP_PROP_FRAME_HEIGHT))\n",
    "fps = int(cap.get(cv2.CAP_PROP_FPS))\n",
    "fourcc = cv2.VideoWriter_fourcc(*'avc1') # mac 은 다르다..\n",
    "\n",
    "review = cv2.VideoWriter('review.MP4', fourcc, fps, (w, h))\n",
    "    \n",
    "    \n",
    "while True :\n",
    "    ret, frame = cap.read()\n",
    "    \n",
    "    if not ret :\n",
    "        print('frame read failed')\n",
    "        break\n",
    "        \n",
    "    edge = cv2.Canny(frame, 50, 100)\n",
    "    \n",
    "    review.write(frame)\n",
    "    \n",
    "    cv2.imshow('frame', frame)\n",
    "    cv2.imshow('edge', edge)\n",
    "    \n",
    "    if cv2.waitKey(30) == 27 :\n",
    "        break\n",
    "        \n",
    "        \n",
    "review.release()        \n",
    "cap.release()\n",
    "cv2.destroyAllWindows()\n",
    "cv2.waitKey(1)"
   ]
  },
  {
   "cell_type": "code",
   "execution_count": null,
   "metadata": {},
   "outputs": [],
   "source": [
    "img = np.ones((600, 1200, 3), np.uint8) * 255\n",
    "\n",
    "cv2.imshow('image', img)\n",
    "\n",
    "cv2.waitKey()\n",
    "cv2.destroyAllWindows()\n",
    "cv2.waitKey(1)"
   ]
  },
  {
   "cell_type": "code",
   "execution_count": null,
   "metadata": {},
   "outputs": [],
   "source": [
    "src = cv2.imread('./fig/cow.png')\n",
    "dst = cv2.imread('./fig/green.png')\n",
    "\n",
    "src_gray = cv2.cvtColor(src, cv2.COLOR_BGR2GRAY)\n",
    "\n",
    "ret, mask = cv2.threshold(src_gray, 0 , 255, cv2.THRESH_BINARY_INV | cv2.THRESH_OTSU)\n",
    "\n",
    "h , w = src.shape[:2]\n",
    "\n",
    "crop = dst[300 : 300 + h, 600 : 600 + w]\n",
    "cv2.copyTo(src, mask, crop)\n",
    "\n",
    "cv2.imshow('src', src)\n",
    "cv2.imshow('dst', dst)\n",
    "\n",
    "\n",
    "cv2.waitKey()\n",
    "cv2.destroyAllWindows()\n",
    "cv2.waitKey(1)"
   ]
  },
  {
   "cell_type": "code",
   "execution_count": null,
   "metadata": {},
   "outputs": [],
   "source": [
    "import glob"
   ]
  },
  {
   "cell_type": "code",
   "execution_count": null,
   "metadata": {},
   "outputs": [],
   "source": [
    "img_files = glob.glob('../Chapter_1/fig/images/*.*')\n",
    "\n",
    "cv2.namedWindow('scene', cv2.WINDOW_NORMAL)\n",
    "\n",
    "idx = 0\n",
    "\n",
    "while True :\n",
    "    img = cv2.imread(img_files[idx])\n",
    "    \n",
    "    if img is None :\n",
    "        print('image read failed')\n",
    "        break\n",
    "        \n",
    "    cv2.imshow('scene', img)\n",
    "    \n",
    "    if cv2.waitKey(3000) == 27 :\n",
    "        break\n",
    "    \n",
    "    if idx >= len(img_files) :\n",
    "        idx = 0\n",
    "        \n",
    "    idx += 1\n",
    "\n",
    "cv2.destroyAllWindows()\n",
    "cv2.waitKey(1)       "
   ]
  },
  {
   "cell_type": "code",
   "execution_count": null,
   "metadata": {},
   "outputs": [],
   "source": [
    "img = cv2.imread('./fig/puppy.bmp', cv2.IMREAD_COLOR)\n",
    "\n",
    "if img is None :\n",
    "    print('image read failed')\n",
    "    sys.exit()\n",
    "    \n",
    "cv2.namedWindow('image', cv2.WINDOW_NORMAL)\n",
    "cv2.imshow('image', img)\n",
    "\n",
    "while True :\n",
    "    key = cv2.waitKey()\n",
    "    \n",
    "    if key == 27 or key == ord('q') :\n",
    "        break\n",
    "\n",
    "cv2.destroyAllWindows()\n",
    "cv2.waitKey(1)       "
   ]
  },
  {
   "cell_type": "code",
   "execution_count": null,
   "metadata": {},
   "outputs": [],
   "source": [
    "img = cv2.imread('./fig/cat.bmp', 0)\n",
    "\n",
    "img2 = img.copy()\n",
    "\n",
    "cv2.imshow('image', img)\n",
    "\n",
    "while True :\n",
    "    key = cv2.waitKey()\n",
    "    \n",
    "    if key == 27 or key == ord('q') :\n",
    "        break\n",
    "    elif key == ord('i') :\n",
    "        img = ~img\n",
    "#         inverted = 255 - img\n",
    "        cv2.imshow('image', img)\n",
    "    \n",
    "    elif key == ord('e') :\n",
    "        img = cv2.Canny(img, 100, 150)\n",
    "        cv2.imshow('image', img)\n",
    "        \n",
    "    elif key == ord('r') :\n",
    "        img = img2.copy()\n",
    "        cv2.imshow('image', img)\n",
    "        \n",
    "    elif key == ord('s') :\n",
    "        cv2.imwrite('saved.png', img)\n",
    "        print('your image is saved!!')\n",
    "        cv2.destroyAllWindows()\n",
    "        cv2.waitKey(1)\n",
    "        \n",
    "        \n",
    "\n",
    "cv2.destroyAllWindows()\n",
    "cv2.waitKey(1)       "
   ]
  },
  {
   "cell_type": "markdown",
   "metadata": {},
   "source": [
    "## 동영상 반응형"
   ]
  },
  {
   "cell_type": "code",
   "execution_count": null,
   "metadata": {},
   "outputs": [],
   "source": [
    "import cv2\n",
    "import numpy as np\n",
    "import sys\n",
    "cap = cv2.VideoCapture(0)\n",
    "\n",
    "if not cap.isOpened() :\n",
    "    print('video open failed')\n",
    "    sys.exit()\n",
    "a = 0\n",
    "k = -1\n",
    "while True :\n",
    "    ret, frame = cap.read()\n",
    "    \n",
    "    if not ret :\n",
    "        print('frame read failed')\n",
    "        break\n",
    "        \n",
    "    key = cv2.waitKey(30)        \n",
    "    k = k if key == -1 else key\n",
    "    \n",
    "    if k == 27 :\n",
    "        break\n",
    "    elif k == ord('e') :\n",
    "        frame = cv2.Canny(frame,50, 100)\n",
    "    \n",
    "    elif k == ord('r'):\n",
    "        frame = frame\n",
    "        \n",
    "    elif k == ord('f') :\n",
    "        frame = cv2.flip(frame, a % 2)\n",
    "    \n",
    "    cv2.imshow('frame', frame)\n",
    "\n",
    "cap.release()\n",
    "cv2.destroyAllWindows()\n",
    "cv2.waitKey(1)"
   ]
  },
  {
   "cell_type": "markdown",
   "metadata": {},
   "source": [
    "# 템플릿 외위기"
   ]
  },
  {
   "cell_type": "code",
   "execution_count": 4,
   "metadata": {},
   "outputs": [
    {
     "data": {
      "text/plain": [
       "-1"
      ]
     },
     "execution_count": 4,
     "metadata": {},
     "output_type": "execute_result"
    }
   ],
   "source": [
    "import cv2\n",
    "import numpy as np\n",
    "import sys\n",
    "\n",
    "cap = cv2.VideoCapture(0)\n",
    "\n",
    "if not cap.isOpened() :\n",
    "    print('Video open failed')\n",
    "    sys.exit()\n",
    "\n",
    "f_flip = False\n",
    "i_edge = False\n",
    "\n",
    "while True :\n",
    "    ret, frame = cap.read()\n",
    "    \n",
    "    if not ret :\n",
    "        print('frame read failed')\n",
    "        break\n",
    "    \n",
    "    if f_flip :\n",
    "        frame = cv2.flip(frame , 1)\n",
    "        \n",
    "    if i_edge :\n",
    "        frame = cv2.Canny(frame, 100, 150)\n",
    "    \n",
    "    cv2.imshow('frame', frame)\n",
    "    \n",
    "    key = cv2.waitKey(20)\n",
    "    \n",
    "    if key == 27 :\n",
    "        break\n",
    "        \n",
    "    elif key == ord('f') :\n",
    "        f_flip = not f_flip\n",
    "    \n",
    "    elif key == ord('i') :\n",
    "        i_edge = not i_edge\n",
    "\n",
    "cap.release()\n",
    "cv2.destroyAllWindows()\n",
    "cv2.waitKey(1)"
   ]
  },
  {
   "cell_type": "code",
   "execution_count": 6,
   "metadata": {},
   "outputs": [
    {
     "name": "stdout",
     "output_type": "stream",
     "text": [
      "376 298\n",
      "592 9\n",
      "13 489\n"
     ]
    },
    {
     "data": {
      "text/plain": [
       "-1"
      ]
     },
     "execution_count": 6,
     "metadata": {},
     "output_type": "execute_result"
    }
   ],
   "source": [
    "def call_mouse(event, x, y, flags, param) :\n",
    "    \n",
    "    if event == cv2.EVENT_LBUTTONDOWN : # 마우스 버튼을 누를때\n",
    "        print('left button down :', x, y)\n",
    "        \n",
    "    elif event == cv2.EVENT_LBUTTONUP : # 마우스 버튼을 뗄때\n",
    "        print('left button up :',x, y)\n",
    "        \n",
    "    elif event == cv2.EVENT_MOUSEMOVE :\n",
    "        print(x, y)\n",
    "\n",
    "img = np.ones((500, 600, 3), np.uint8) * 255\n",
    "\n",
    "cv2.namedWindow('image')\n",
    "\n",
    "# setMouseCallback(windowName, onMouse [, param]) -> None\n",
    "cv2.setMouseCallback('image', call_mouse, img) # 윈도우 창 image 에서 call_mouse 라는 함수 호출\n",
    "\n",
    "cv2.imshow('image', img)\n",
    "\n",
    "cv2.waitKey()\n",
    "cv2.destroyAllWindows()\n",
    "cv2.waitKey(1)"
   ]
  },
  {
   "cell_type": "code",
   "execution_count": 7,
   "metadata": {},
   "outputs": [
    {
     "data": {
      "text/plain": [
       "-1"
      ]
     },
     "execution_count": 7,
     "metadata": {},
     "output_type": "execute_result"
    }
   ],
   "source": [
    "def call_mouse(event, x, y, flags, param) :\n",
    "    global oldx, oldy\n",
    "    \n",
    "    if event == cv2.EVENT_LBUTTONDOWN : # 마우스 버튼을 누를때\n",
    "        oldx, oldy = x, y\n",
    "        \n",
    "#     elif event == cv2.EVENT_LBUTTONUP : # 마우스 버튼을 뗄때\n",
    "#         print('left button up :',x, y)\n",
    "        \n",
    "    elif event == cv2.EVENT_MOUSEMOVE :\n",
    "        if flags == cv2.EVENT_FLAG_LBUTTON:\n",
    "            cv2.line(img, (oldx, oldy), (x, y) , (0,0,255), 5 , cv2.LINE_AA)\n",
    "            cv2.imshow('image', img)\n",
    "            oldx, oldy = x, y\n",
    "\n",
    "img = np.ones((500, 600, 3), np.uint8) * 255\n",
    "\n",
    "cv2.namedWindow('image')\n",
    "\n",
    "# setMouseCallback(windowName, onMouse [, param]) -> None\n",
    "cv2.setMouseCallback('image', call_mouse, img) # 윈도우 창 image 에서 call_mouse 라는 함수 호출\n",
    "\n",
    "cv2.imshow('image', img)\n",
    "\n",
    "cv2.waitKey()\n",
    "cv2.destroyAllWindows()\n",
    "cv2.waitKey(1)"
   ]
  },
  {
   "cell_type": "code",
   "execution_count": null,
   "metadata": {},
   "outputs": [],
   "source": []
  }
 ],
 "metadata": {
  "kernelspec": {
   "display_name": "Python 3",
   "language": "python",
   "name": "python3"
  },
  "language_info": {
   "codemirror_mode": {
    "name": "ipython",
    "version": 3
   },
   "file_extension": ".py",
   "mimetype": "text/x-python",
   "name": "python",
   "nbconvert_exporter": "python",
   "pygments_lexer": "ipython3",
   "version": "3.8.5"
  }
 },
 "nbformat": 4,
 "nbformat_minor": 4
}
