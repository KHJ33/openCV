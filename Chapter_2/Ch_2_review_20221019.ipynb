{
 "cells": [
  {
   "cell_type": "code",
   "execution_count": 1,
   "metadata": {},
   "outputs": [],
   "source": [
    "import cv2\n",
    "import numpy as np\n",
    "import sys"
   ]
  },
  {
   "cell_type": "code",
   "execution_count": 5,
   "metadata": {},
   "outputs": [
    {
     "data": {
      "text/plain": [
       "-1"
      ]
     },
     "execution_count": 5,
     "metadata": {},
     "output_type": "execute_result"
    }
   ],
   "source": [
    "img = cv2.imread('./fig/puppy.bmp', cv2.IMREAD_COLOR)\n",
    "# img_resize = cv2.resize(img, (800, 600), interpolation = cv2.INTER_LINEAR)\n",
    "\n",
    "if img is None :\n",
    "    print('image read failed')\n",
    "    sys.exit()\n",
    "\n",
    "cv2.namedWindow('image', cv2.WINDOW_AUTOSIZE)\n",
    "cv2.imshow('image', img)\n",
    "    \n",
    "while True :\n",
    "    key = cv2.waitKey()\n",
    "    if key == 27 or key == ord('q'):\n",
    "        break\n",
    "\n",
    "cv2.destroyAllWindows()\n",
    "cv2.waitKey(1)"
   ]
  },
  {
   "cell_type": "code",
   "execution_count": 2,
   "metadata": {},
   "outputs": [],
   "source": [
    "import os"
   ]
  },
  {
   "cell_type": "code",
   "execution_count": 3,
   "metadata": {},
   "outputs": [
    {
     "data": {
      "text/plain": [
       "['pexels-james-wheeler-1542495.jpg',\n",
       " 'pexels-darwis-alwan-1808329.jpg',\n",
       " 'pexels-mike-145685.jpg',\n",
       " 'pexels-pixabay-46164.jpg']"
      ]
     },
     "execution_count": 3,
     "metadata": {},
     "output_type": "execute_result"
    }
   ],
   "source": [
    "img_list = os.listdir('../Chapter_1/fig/my_images/')\n",
    "img_list"
   ]
  },
  {
   "cell_type": "code",
   "execution_count": 4,
   "metadata": {},
   "outputs": [
    {
     "data": {
      "text/plain": [
       "['../Chapter_1/fig/my_images/pexels-james-wheeler-1542495.jpg',\n",
       " '../Chapter_1/fig/my_images/pexels-darwis-alwan-1808329.jpg',\n",
       " '../Chapter_1/fig/my_images/pexels-mike-145685.jpg',\n",
       " '../Chapter_1/fig/my_images/pexels-pixabay-46164.jpg']"
      ]
     },
     "execution_count": 4,
     "metadata": {},
     "output_type": "execute_result"
    }
   ],
   "source": [
    "img_files = []\n",
    "\n",
    "for i in img_list :\n",
    "    img_file = '../Chapter_1/fig/my_images/' + i\n",
    "    img_files.append(img_file)\n",
    "\n",
    "img_files"
   ]
  },
  {
   "cell_type": "code",
   "execution_count": 6,
   "metadata": {},
   "outputs": [
    {
     "data": {
      "text/plain": [
       "-1"
      ]
     },
     "execution_count": 6,
     "metadata": {},
     "output_type": "execute_result"
    }
   ],
   "source": [
    "cv2.namedWindow('scene', cv2.WINDOW_NORMAL)\n",
    "# cv2.setWindowProperty('scene', cv2.WND_PROP_FULLSCREEN, cv2.WINDOW_FULLSCREEN)\n",
    "\n",
    "idx = 0\n",
    "\n",
    "while True :\n",
    "    img = cv2.imread(img_files[idx])\n",
    "    \n",
    "    if img is None :\n",
    "        print('Image read failed')\n",
    "        break\n",
    "        \n",
    "    cv2.imshow('scene', img)\n",
    "    \n",
    "    key = cv2.waitKey(3000)\n",
    "    \n",
    "    if key == 27 or key == ord('q') :\n",
    "        break\n",
    "        \n",
    "    idx += 1\n",
    "    if idx >= len(img_files) :\n",
    "        idx = 0\n",
    "\n",
    "cv2.destroyAllWindows()\n",
    "cv2.waitKey(1)"
   ]
  },
  {
   "cell_type": "code",
   "execution_count": 9,
   "metadata": {},
   "outputs": [
    {
     "data": {
      "text/plain": [
       "-1"
      ]
     },
     "execution_count": 9,
     "metadata": {},
     "output_type": "execute_result"
    }
   ],
   "source": [
    "img1 = np.zeros((600, 400, 3), np.uint8) # 가로 가 길다. np -> 가로 먼저 / cv -> 세로가 먼저\n",
    "img2 = np.ones((600, 400, 3), np.uint8) * 255\n",
    "img3 = np.full((600, 400, 3), (255, 0, 0), np.uint8)\n",
    "\n",
    "cv2.imshow('img1', img1)\n",
    "cv2.imshow('img2', img2)\n",
    "cv2.imshow('img3', img3)\n",
    "\n",
    "cv2.waitKey()\n",
    "cv2.destroyAllWindows()\n",
    "cv2.waitKey(1)"
   ]
  },
  {
   "cell_type": "code",
   "execution_count": 13,
   "metadata": {},
   "outputs": [
    {
     "data": {
      "text/plain": [
       "-1"
      ]
     },
     "execution_count": 13,
     "metadata": {},
     "output_type": "execute_result"
    }
   ],
   "source": [
    "src = cv2.imread('./fig/airplane.bmp')\n",
    "mask = cv2.imread('./fig/mask_plane.bmp', 0) # 0은 흑백으로 열겠다\n",
    "dst = cv2.imread('./fig/field.bmp')\n",
    "\n",
    "# 방법 1\n",
    "# cv2.copyTo(src, mask, dst)\n",
    "\n",
    "# 방법 2\n",
    "dst[mask > 0] = src[mask > 0]\n",
    "\n",
    "# 방법 2를 이용한 빨간색 비행기 그리기\n",
    "# dst[mask > 0] = (255, 0, 0)\n",
    "\n",
    "cv2.imshow('src', src)\n",
    "cv2.imshow('mask', mask)\n",
    "cv2.imshow('dst', dst)\n",
    "\n",
    "cv2.waitKey()\n",
    "cv2.destroyAllWindows()\n",
    "cv2.waitKey(1)"
   ]
  },
  {
   "cell_type": "code",
   "execution_count": 23,
   "metadata": {},
   "outputs": [
    {
     "data": {
      "text/plain": [
       "-1"
      ]
     },
     "execution_count": 23,
     "metadata": {},
     "output_type": "execute_result"
    }
   ],
   "source": [
    "img1 = cv2.imread('./fig/cow.png')\n",
    "img2 = cv2.imread('./fig/green.png')\n",
    "\n",
    "# 1. gray 로 변환\n",
    "img1_gray = cv2.cvtColor(img1, cv2.COLOR_BGR2GRAY)\n",
    "retval, img1_mask = cv2.threshold(img1_gray, 244, 255 , cv2.THRESH_BINARY_INV)\n",
    "\n",
    "h, w = img1.shape[:2]\n",
    "crop = img2[200 : 200 + h, 400 : 400 + w]\n",
    "\n",
    "img2_resize = cv2.resize(img2, (w, h), interpolation = cv2.INTER_LINEAR)\n",
    "\n",
    "cv2.copyTo(img1, img1_mask, crop)\n",
    "\n",
    "cv2.imshow('img1', img1)\n",
    "cv2.imshow('img2', img2)\n",
    "cv2.imshow('img3', img1_gray)\n",
    "cv2.imshow('mask', img1_mask)\n",
    "cv2.imshow('img2_resize', img2_resize)\n",
    "\n",
    "cv2.waitKey()\n",
    "cv2.destroyAllWindows()\n",
    "cv2.waitKey(1)"
   ]
  },
  {
   "cell_type": "markdown",
   "metadata": {},
   "source": [
    "## alpha 채널 영상 사용 방법"
   ]
  },
  {
   "cell_type": "code",
   "execution_count": 31,
   "metadata": {},
   "outputs": [
    {
     "name": "stdout",
     "output_type": "stream",
     "text": [
      "(480, 960, 4)\n"
     ]
    },
    {
     "data": {
      "text/plain": [
       "-1"
      ]
     },
     "execution_count": 31,
     "metadata": {},
     "output_type": "execute_result"
    }
   ],
   "source": [
    "src = cv2.imread('./fig/puppy.bmp')\n",
    "# alpha 채널 영상은 마지막에 mask 영상이 존재한다!!\n",
    "alpha_image = cv2.imread('./fig/imgbin_sunglasses_1.png', cv2.IMREAD_UNCHANGED)\n",
    "\n",
    "print(alpha_image.shape)\n",
    "\n",
    "alpha_image = cv2.resize(alpha_image, (300, 150), interpolation = cv2.INTER_AREA)\n",
    "\n",
    "h, w = alpha_image.shape[:2]\n",
    "crop = src[120 : 120 + h , 220 : 220 + w]\n",
    "\n",
    "mask = alpha_image[:, : , -1]\n",
    "glass = alpha_image[:, : , 0:3]\n",
    "\n",
    "# cv2.copyTo(glass, mask, crop)\n",
    "crop[mask > 0] = (255, 0, 0)\n",
    "\n",
    "cv2.imshow('src', src)\n",
    "cv2.imshow('glass', glass)\n",
    "cv2.imshow('mask', mask)\n",
    "cv2.imshow('crop', crop)\n",
    "\n",
    "\n",
    "cv2.waitKey()\n",
    "cv2.destroyAllWindows()\n",
    "cv2.waitKey(1)"
   ]
  },
  {
   "cell_type": "code",
   "execution_count": 62,
   "metadata": {},
   "outputs": [
    {
     "name": "stdout",
     "output_type": "stream",
     "text": [
      "(769, 616, 3)\n",
      "(3507, 2480, 4)\n",
      "400 300\n"
     ]
    },
    {
     "data": {
      "text/plain": [
       "-1"
      ]
     },
     "execution_count": 62,
     "metadata": {},
     "output_type": "execute_result"
    }
   ],
   "source": [
    "src = cv2.imread('./fig/puppy2.png')\n",
    "\n",
    "alpha_image = cv2.imread('./fig/imgbin_hat.png', cv2.IMREAD_UNCHANGED)\n",
    "\n",
    "print(src.shape)\n",
    "print(alpha_image.shape)\n",
    "\n",
    "alpha_image = cv2.resize(alpha_image, (300, 400), interpolation = cv2.INTER_AREA)\n",
    "\n",
    "h, w = alpha_image.shape[:2]\n",
    "print(h, w)\n",
    "start = 140\n",
    "s = 20\n",
    "crop = src[s : s + h , start : start + w]\n",
    "\n",
    "cv2.copyTo(glass, mask, crop)\n",
    "\n",
    "mask = alpha_image[:, : , -1]\n",
    "glass = alpha_image[:, : , 0:3]\n",
    "\n",
    "cv2.imshow('src', src)\n",
    "cv2.imshow('alpha_image', alpha_image)\n",
    "cv2.imshow('crop', crop)\n",
    "\n",
    "\n",
    "cv2.waitKey()\n",
    "cv2.destroyAllWindows()\n",
    "cv2.waitKey(1)"
   ]
  },
  {
   "cell_type": "code",
   "execution_count": 83,
   "metadata": {},
   "outputs": [
    {
     "data": {
      "text/plain": [
       "-1"
      ]
     },
     "execution_count": 83,
     "metadata": {},
     "output_type": "execute_result"
    }
   ],
   "source": [
    "img = np.ones((600, 1200, 3), np.uint8) * 255\n",
    "\n",
    "cv2.line(img, (100,30), (350,30), (0, 0, 255), 8, cv2.LINE_4)\n",
    "cv2.line(img, (350,30), (250,300), (0, 0, 255), 10, cv2.LINE_AA)\n",
    "\n",
    "cv2.arrowedLine(img, (450, 30), (450, 300), (255, 0 , 0), 10, cv2.LINE_4)\n",
    "\n",
    "cv2.rectangle(img, (100, 400), (450, 500), (0, 0 , 255), 5, cv2.LINE_4)\n",
    "cv2.rectangle(img, (120, 420), (430, 480), (0, 255 , 0), -1, cv2.LINE_4)\n",
    "# cv2.rectangle(img, (120, 420, 310, 60), (0, 255 , 0), -1, cv2.LINE_4)\n",
    "\n",
    "cv2.circle(img, (800, 200), 100 , (0, 0, 255), -1, cv2.LINE_AA)\n",
    "\n",
    "cv2.ellipse(img, (800, 200), (50, 200), 20, 0, 270, (255, 0, 255), 5, cv2.LINE_AA)\n",
    "\n",
    "cv2.putText(img, 'Hello opencv!', (900, 400), cv2.FONT_HERSHEY_COMPLEX, 2, (123, 222, 44), 2, cv2.LINE_AA)\n",
    "\n",
    "cv2.imshow('image', img)\n",
    "\n",
    "cv2.waitKey()\n",
    "cv2.destroyAllWindows()\n",
    "cv2.waitKey(1)"
   ]
  },
  {
   "cell_type": "markdown",
   "metadata": {},
   "source": [
    "## 인삼 글자 만들어 보기"
   ]
  },
  {
   "cell_type": "code",
   "execution_count": 117,
   "metadata": {},
   "outputs": [
    {
     "data": {
      "text/plain": [
       "-1"
      ]
     },
     "execution_count": 117,
     "metadata": {},
     "output_type": "execute_result"
    }
   ],
   "source": [
    "img = np.ones((600, 1200, 3), np.uint8) * 255\n",
    "\n",
    "## 인\n",
    "\n",
    "cv2.circle(img, (150, 100), 50 , (0, 0, 0), 2, cv2.LINE_AA)\n",
    "cv2.line(img, (230, 30), (230, 200), (0, 0, 0), 2, cv2.LINE_AA)\n",
    "\n",
    "cv2.line(img, (130, 180), (130, 250), (0, 0, 0), 2, cv2.LINE_AA)\n",
    "cv2.line(img, (130, 250), (230, 250), (0, 0, 0), 2, cv2.LINE_AA)\n",
    "\n",
    "## 삼\n",
    "\n",
    "cv2.line(img, (350, 30), (280, 150), (0, 0, 0), 2, cv2.LINE_AA)\n",
    "cv2.line(img, (315, 90), (350, 150), (0, 0, 0), 2, cv2.LINE_AA)\n",
    "\n",
    "cv2.line(img, (400, 30), (400, 150), (0, 0, 0), 2, cv2.LINE_AA)\n",
    "cv2.line(img, (400, 75), (450, 75), (0, 0, 0), 2, cv2.LINE_AA)\n",
    "\n",
    "cv2.rectangle(img, (300, 200), (430, 270), (0, 0 , 0), 2, cv2.LINE_4)\n",
    "\n",
    "## 한글 쓰기\n",
    "cv2.putText(img, '인삼!', (150, 500), cv2.FONT_HERSHEY_COMPLEX, 2, (123, 222, 44), 2, cv2.LINE_AA)\n",
    "\n",
    "cv2.imshow('image', img)\n",
    "\n",
    "cv2.waitKey()\n",
    "cv2.destroyAllWindows()\n",
    "cv2.waitKey(1)"
   ]
  },
  {
   "cell_type": "code",
   "execution_count": null,
   "metadata": {},
   "outputs": [],
   "source": []
  }
 ],
 "metadata": {
  "kernelspec": {
   "display_name": "Python 3",
   "language": "python",
   "name": "python3"
  },
  "language_info": {
   "codemirror_mode": {
    "name": "ipython",
    "version": 3
   },
   "file_extension": ".py",
   "mimetype": "text/x-python",
   "name": "python",
   "nbconvert_exporter": "python",
   "pygments_lexer": "ipython3",
   "version": "3.8.5"
  }
 },
 "nbformat": 4,
 "nbformat_minor": 4
}
