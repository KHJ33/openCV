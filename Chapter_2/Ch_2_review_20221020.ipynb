{
 "cells": [
  {
   "cell_type": "code",
   "execution_count": 1,
   "metadata": {},
   "outputs": [],
   "source": [
    "import cv2\n",
    "import numpy as np\n",
    "import sys"
   ]
  },
  {
   "cell_type": "code",
   "execution_count": 10,
   "metadata": {},
   "outputs": [
    {
     "data": {
      "text/plain": [
       "-1"
      ]
     },
     "execution_count": 10,
     "metadata": {},
     "output_type": "execute_result"
    }
   ],
   "source": [
    "img = np.zeros((800, 1200, 3), np.uint8) + 255\n",
    "\n",
    "cv2.line(img, (100,50), (300, 50), (0,0,255), 5)\n",
    "cv2.arrowedLine(img, (100, 100), (300, 100), (255,0,0), 12)\n",
    "\n",
    "cv2.rectangle(img, (100, 200), (300,400), (0,255,0), 10)\n",
    "cv2.rectangle(img, (120, 220, 160, 160), (0,100,255), -1)\n",
    "\n",
    "cv2.circle(img, (600,300), 100, (123, 111, 234), 10 , cv2.LINE_AA)\n",
    "\n",
    "cv2.ellipse(img, (600, 300), (200, 50), -20 , 0 , 360, (0,0,255), 10,  cv2.LINE_AA)\n",
    "#                                            시작 각도 0도\n",
    "\n",
    "cv2.putText(img, 'Hello opencv!', (600, 500), cv2.FONT_HERSHEY_PLAIN, 2, (111, 234, 56), 2 , cv2.LINE_AA)\n",
    "\n",
    "cv2.imshow('image', img)\n",
    "cv2.waitKey()\n",
    "cv2.destroyAllWindows()\n",
    "cv2.waitKey(1)"
   ]
  },
  {
   "cell_type": "code",
   "execution_count": 12,
   "metadata": {},
   "outputs": [
    {
     "name": "stdout",
     "output_type": "stream",
     "text": [
      "(3507, 2480, 4)\n"
     ]
    },
    {
     "data": {
      "text/plain": [
       "-1"
      ]
     },
     "execution_count": 12,
     "metadata": {},
     "output_type": "execute_result"
    }
   ],
   "source": [
    "src = cv2.imread('./fig/imgbin_hat.png', cv2.IMREAD_UNCHANGED) # alpha 채널 읽기\n",
    "\n",
    "print(src.shape)\n",
    "\n",
    "src = cv2.resize(src, (600, 800))\n",
    "\n",
    "mask = src[:, : , -1]\n",
    "img = src[:, : , 0 : -1]\n",
    "\n",
    "cv2.imshow('mask',mask)\n",
    "cv2.imshow('img',img)\n",
    "\n",
    "cv2.waitKey()\n",
    "cv2.destroyAllWindows()\n",
    "cv2.waitKey(1)"
   ]
  },
  {
   "cell_type": "code",
   "execution_count": 13,
   "metadata": {},
   "outputs": [
    {
     "data": {
      "text/plain": [
       "-1"
      ]
     },
     "execution_count": 13,
     "metadata": {},
     "output_type": "execute_result"
    }
   ],
   "source": [
    "img = cv2.imread('./fig/puppy.bmp')\n",
    "\n",
    "if img is None :\n",
    "    print('image read failed')\n",
    "    sys.exit()\n",
    "    \n",
    "cv2.namedWindow('image', cv2.WINDOW_AUTOSIZE)\n",
    "cv2.imshow('image', img)\n",
    "\n",
    "while True :\n",
    "    key = cv2.waitKey()\n",
    "    \n",
    "    if key == 27 or key == ord('q') :\n",
    "        break\n",
    "        \n",
    "cv2.waitKey()\n",
    "cv2.destroyAllWindows()\n",
    "cv2.waitKey(1)"
   ]
  },
  {
   "cell_type": "code",
   "execution_count": 14,
   "metadata": {},
   "outputs": [],
   "source": [
    "import glob"
   ]
  },
  {
   "cell_type": "code",
   "execution_count": 15,
   "metadata": {},
   "outputs": [
    {
     "data": {
      "text/plain": [
       "-1"
      ]
     },
     "execution_count": 15,
     "metadata": {},
     "output_type": "execute_result"
    }
   ],
   "source": [
    "img_files = glob.glob('../Chapter_1/fig/images/*.*')\n",
    "\n",
    "cv2.namedWindow('scene', cv2.WINDOW_NORMAL)\n",
    "\n",
    "idx = 0\n",
    "while True :\n",
    "    img = cv2.imread(img_files[idx])\n",
    "    \n",
    "    if img is None :\n",
    "        print('image read failed')\n",
    "        break\n",
    "    \n",
    "    cv2.imshow('scene', img)\n",
    "    \n",
    "    if cv2.waitKey(3000) == 27 :\n",
    "        break\n",
    "    \n",
    "    idx += 1\n",
    "    if idx >= len(img_files) :\n",
    "        idx = 0\n",
    "\n",
    "cv2.waitKey()\n",
    "cv2.destroyAllWindows()\n",
    "cv2.waitKey(1)"
   ]
  },
  {
   "cell_type": "code",
   "execution_count": 6,
   "metadata": {},
   "outputs": [
    {
     "data": {
      "text/plain": [
       "-1"
      ]
     },
     "execution_count": 6,
     "metadata": {},
     "output_type": "execute_result"
    }
   ],
   "source": [
    "cap = cv2.VideoCapture(0) # webcam 사용\n",
    "# cap = cv2.VideoCapture('.')\n",
    "\n",
    "if not cap.isOpened() :\n",
    "    print('camera open failed')\n",
    "    sys.exit()\n",
    "    \n",
    "while True :\n",
    "    ret, frame = cap.read()\n",
    "    \n",
    "    if not ret :\n",
    "        print('frame read failed')\n",
    "        break\n",
    "    \n",
    "    edge = cv2.Canny(frame, 50, 150) # 미분 필터를 이용한 edge 필터\n",
    "    \n",
    "    frame_gray = cv2.cvtColor(frame, cv2.COLOR_BGR2GRAY)\n",
    "    inverse = 255 - frame_gray\n",
    "    \n",
    "    cv2.imshow('frame', frame)\n",
    "    cv2.imshow('Edge', edge)\n",
    "    cv2.imshow('inverse', inverse)\n",
    "    \n",
    "    if cv2.waitKey(30) == 27 :\n",
    "        break\n",
    "        \n",
    "        \n",
    "cap.release()\n",
    "cv2.destroyAllWindows()\n",
    "cv2.waitKey(1)"
   ]
  },
  {
   "cell_type": "code",
   "execution_count": 7,
   "metadata": {},
   "outputs": [
    {
     "data": {
      "text/plain": [
       "-1"
      ]
     },
     "execution_count": 7,
     "metadata": {},
     "output_type": "execute_result"
    }
   ],
   "source": [
    "cap = cv2.VideoCapture(0)\n",
    "\n",
    "if not cap.isOpened() :\n",
    "    print('camera open failed')\n",
    "    sys.exit()\n",
    "    \n",
    "while True :\n",
    "    ret, frame = cap.read()\n",
    "    \n",
    "    if not ret :\n",
    "        print('frame open failed')\n",
    "        break\n",
    "        \n",
    "    cv2.imshow('frame', frame)\n",
    "    \n",
    "    if cv2.waitKey(30) == 27 :\n",
    "        break\n",
    "\n",
    "cap.release()\n",
    "cv2.destroyAllWindows()\n",
    "cv2.waitKey(1)"
   ]
  },
  {
   "cell_type": "markdown",
   "metadata": {},
   "source": [
    "## 동영상을 저장하는 법"
   ]
  },
  {
   "cell_type": "code",
   "execution_count": 42,
   "metadata": {},
   "outputs": [
    {
     "data": {
      "text/plain": [
       "-1"
      ]
     },
     "execution_count": 42,
     "metadata": {},
     "output_type": "execute_result"
    }
   ],
   "source": [
    "cap = cv2.VideoCapture(0)\n",
    "\n",
    "if not cap.isOpened() :\n",
    "    print('camera open failed')\n",
    "    sys.exit()\n",
    "    \n",
    "w = int(cap.get(cv2.CAP_PROP_FRAME_WIDTH)) \n",
    "h = int(cap.get(cv2.CAP_PROP_FRAME_HEIGHT))\n",
    "fps = int(cap.get(cv2.CAP_PROP_FPS))\n",
    "# fourcc = cv2.VideoWriter_fourcc(*'DIVX') # window 용\n",
    "# fourcc = cv2.VideoWriter_fourcc(*'mp4v') # mac 은 다르다..\n",
    "fourcc = cv2.VideoWriter_fourcc(*'avc1') # mac 은 다르다..\n",
    "out = cv2.VideoWriter('test_2.MP4', fourcc, fps, (w, h))\n",
    "\n",
    "\n",
    "while True :\n",
    "    ret, frame = cap.read()\n",
    "    \n",
    "    if not ret :\n",
    "        print('frame open failed')\n",
    "        break\n",
    "    \n",
    "#     frame = cv2.flip(frame,0)\n",
    "    out.write(frame)\n",
    "\n",
    "    cv2.imshow('frame',frame)\n",
    "        \n",
    "    if cv2.waitKey(20) == 27 :\n",
    "        break\n",
    "        \n",
    "cap.release()\n",
    "out.release()\n",
    "cv2.destroyAllWindows()\n",
    "cv2.waitKey(1)      "
   ]
  }
 ],
 "metadata": {
  "kernelspec": {
   "display_name": "Python 3",
   "language": "python",
   "name": "python3"
  },
  "language_info": {
   "codemirror_mode": {
    "name": "ipython",
    "version": 3
   },
   "file_extension": ".py",
   "mimetype": "text/x-python",
   "name": "python",
   "nbconvert_exporter": "python",
   "pygments_lexer": "ipython3",
   "version": "3.8.5"
  }
 },
 "nbformat": 4,
 "nbformat_minor": 4
}
