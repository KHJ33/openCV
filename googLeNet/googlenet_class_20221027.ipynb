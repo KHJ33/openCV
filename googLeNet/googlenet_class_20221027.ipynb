{
 "cells": [
  {
   "cell_type": "code",
   "execution_count": 5,
   "metadata": {},
   "outputs": [],
   "source": [
    "import cv2\n",
    "import numpy as np\n",
    "import sys"
   ]
  },
  {
   "cell_type": "code",
   "execution_count": 6,
   "metadata": {},
   "outputs": [
    {
     "ename": "AttributeError",
     "evalue": "module 'cv2' has no attribute 'imread'",
     "output_type": "error",
     "traceback": [
      "\u001b[0;31m---------------------------------------------------------------------------\u001b[0m",
      "\u001b[0;31mAttributeError\u001b[0m                            Traceback (most recent call last)",
      "\u001b[0;32m<ipython-input-6-9868df0272d4>\u001b[0m in \u001b[0;36m<module>\u001b[0;34m\u001b[0m\n\u001b[1;32m      5\u001b[0m \u001b[0mconfig_name\u001b[0m \u001b[0;34m=\u001b[0m \u001b[0;34m''\u001b[0m \u001b[0;31m# onnx 모델이 아닌경우에는 있다.\u001b[0m\u001b[0;34m\u001b[0m\u001b[0;34m\u001b[0m\u001b[0m\n\u001b[1;32m      6\u001b[0m \u001b[0;34m\u001b[0m\u001b[0m\n\u001b[0;32m----> 7\u001b[0;31m \u001b[0mimg\u001b[0m \u001b[0;34m=\u001b[0m \u001b[0mcv2\u001b[0m\u001b[0;34m.\u001b[0m\u001b[0mimread\u001b[0m\u001b[0;34m(\u001b[0m\u001b[0mfile_name\u001b[0m\u001b[0;34m)\u001b[0m\u001b[0;34m\u001b[0m\u001b[0;34m\u001b[0m\u001b[0m\n\u001b[0m\u001b[1;32m      8\u001b[0m \u001b[0;34m\u001b[0m\u001b[0m\n\u001b[1;32m      9\u001b[0m \u001b[0;31m# 네트웍 객체를 만든다\u001b[0m\u001b[0;34m\u001b[0m\u001b[0;34m\u001b[0m\u001b[0;34m\u001b[0m\u001b[0m\n",
      "\u001b[0;31mAttributeError\u001b[0m: module 'cv2' has no attribute 'imread'"
     ]
    }
   ],
   "source": [
    "model_name = './googlenet-12.onnx' # 사용할 모델\n",
    "\n",
    "file_name = './fig/dog.jpeg'\n",
    "\n",
    "config_name = '' # onnx 모델이 아닌경우에는 있다.\n",
    "\n",
    "img = cv2.imread(file_name)\n",
    "\n",
    "# 네트웍 객체를 만든다\n",
    "# readNet(model[, config[, framework]]) -> retval\n",
    "net = cv2.dnn.readNet(model_name, config_name)\n",
    "\n",
    "if net.empty():\n",
    "    print('model load failed')\n",
    "    sys.exit()\n",
    "    \n",
    "# 분류모델 종류를 읽어야 한다\n",
    "classNames = []\n",
    "with open('./classification_classes_ILSVRC2012.txt', 'r') as f :\n",
    "    classNames = f.read().rstrip('\\n').rsplit('\\n') # 맨 마지막 줄은 rstrip 으로 삭제 후 rsplit 으로 분리\n",
    "    \n",
    "# print(classNames)\n",
    "# blobFromImage(image[, scalefactor[, size[, mean[, swapRB[, crop[, ddepth]]]]]]) -> retval\n",
    "# 딥러닝이 학습한 모델 그래도 세팅 진행\n",
    "blob = cv2.dnn.blobFromImage(img, 1, (224, 224), (104, 117, 123), \n",
    "                            swapRB = False) # swapRB = False 는 BGR로 학습\n",
    "\n",
    "net.setInput(blob)\n",
    "\n",
    "prob = net.forward()\n",
    "print(prob.shape) # (1, 1000) 결과 값으로 나온다.\n",
    "\n",
    "out = prob.flatten()\n",
    "print(out.shape)\n",
    "\n",
    "classid = np.argmax(out)\n",
    "print(classid)\n",
    "\n",
    "print(out[classid])\n",
    "\n",
    "print(classNames[classid])\n",
    "\n",
    "confidence = out[classid]\n",
    "\n",
    "text = f'{classNames[classid]} : ({confidence * 100 :.2f} %) '\n",
    "\n",
    "cv2.putText(img, text, (10, 30), cv2.FONT_HERSHEY_COMPLEX, 1, (0,0,255), 2, cv2.LINE_AA)\n",
    "\n",
    "\n",
    "cv2.imshow('image', img)\n",
    "cv2.waitKey()\n",
    "cv2.destroyAllWindows()\n",
    "cv2.waitKey(1)"
   ]
  },
  {
   "cell_type": "markdown",
   "metadata": {},
   "source": [
    "# 경로에 있는 이미지 파일 결과값 보이기"
   ]
  },
  {
   "cell_type": "code",
   "execution_count": 29,
   "metadata": {},
   "outputs": [
    {
     "data": {
      "text/plain": [
       "-1"
      ]
     },
     "execution_count": 29,
     "metadata": {},
     "output_type": "execute_result"
    }
   ],
   "source": [
    "import glob\n",
    "img_files = glob.glob('./fig/*.*')\n",
    "\n",
    "model_name = './googlenet-12.onnx'\n",
    "config_name = ''\n",
    "\n",
    "net = cv2.dnn.readNet(model_name, config_name)\n",
    "\n",
    "if net.empty() :\n",
    "    print('model load failed')\n",
    "    sys.exit()\n",
    "    \n",
    "with open('./classification_classes_ILSVRC2012.txt', 'r') as f :\n",
    "    classNames = f.read().rstrip('\\n').rsplit('\\n')\n",
    "    \n",
    "idx = 0\n",
    "while True :\n",
    "    img = cv2.imread(img_files[idx % len(img_files)])\n",
    "    \n",
    "    blob = cv2.dnn.blobFromImage(img, 1, (224, 224), (104, 117, 123), swapRB = False)\n",
    "    net.setInput(blob)\n",
    "    \n",
    "    prob = net.forward()\n",
    "    \n",
    "    out = prob.flatten()\n",
    "    classid = np.argmax(out)\n",
    "    \n",
    "    confidence = out[classid]\n",
    "    text = f'{classNames[classid]} : ({confidence * 100 :.2f} %) '\n",
    "    \n",
    "    cv2.putText(img, text, (10, 30), cv2.FONT_HERSHEY_COMPLEX, 1, (0,0,255), 2, cv2.LINE_AA)\n",
    "    cv2.imshow('image', img)\n",
    "    \n",
    "    key = cv2.waitKey(3000)\n",
    "    if key == 27 :\n",
    "        break\n",
    "    \n",
    "    idx += 1\n",
    "\n",
    "cv2.waitKey()\n",
    "cv2.destroyAllWindows()\n",
    "cv2.waitKey(1)"
   ]
  },
  {
   "cell_type": "code",
   "execution_count": null,
   "metadata": {},
   "outputs": [],
   "source": []
  }
 ],
 "metadata": {
  "kernelspec": {
   "display_name": "Python 3",
   "language": "python",
   "name": "python3"
  },
  "language_info": {
   "codemirror_mode": {
    "name": "ipython",
    "version": 3
   },
   "file_extension": ".py",
   "mimetype": "text/x-python",
   "name": "python",
   "nbconvert_exporter": "python",
   "pygments_lexer": "ipython3",
   "version": "3.8.5"
  }
 },
 "nbformat": 4,
 "nbformat_minor": 4
}
